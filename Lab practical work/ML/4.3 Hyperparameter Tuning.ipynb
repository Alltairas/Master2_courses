{
 "cells": [
  {
   "cell_type": "code",
   "execution_count": 20,
   "id": "b9fd0e14",
   "metadata": {},
   "outputs": [
    {
     "name": "stdout",
     "output_type": "stream",
     "text": [
      "{'C': 1.0, 'class_weight': None, 'dual': False, 'fit_intercept': True, 'intercept_scaling': 1, 'l1_ratio': None, 'max_iter': 100, 'multi_class': 'auto', 'n_jobs': None, 'penalty': 'l2', 'random_state': None, 'solver': 'lbfgs', 'tol': 0.0001, 'verbose': 0, 'warm_start': False}\n"
     ]
    },
    {
     "data": {
      "image/png": "[encoded data removed]",
      "text/plain": [
       "<Figure size 576x432 with 2 Axes>"
      ]
     },
     "metadata": {
      "needs_background": "light"
     },
     "output_type": "display_data"
    }
   ],
   "source": [
    "import pandas as pd\n",
    "import numpy as np\n",
    "import matplotlib.pyplot as plt\n",
    "import seaborn as sns\n",
    "import warnings\n",
    "from sklearn.model_selection import GridSearchCV, train_test_split\n",
    "from sklearn.linear_model import LogisticRegression \n",
    "from sklearn.metrics import accuracy_score, make_scorer\n",
    "from sklearn.preprocessing import StandardScaler\n",
    "from sklearn.metrics import confusion_matrix\n",
    "\n",
    "warnings.filterwarnings('ignore')\n",
    "\n",
    "# Import data from prof's repository\n",
    "data = pd.read_csv(\"/home/pers/allouche/PHY2446M/Data/class_data.csv\")\n",
    "df = pd.DataFrame(data)\n",
    "df = df.drop(columns=['id', 'Unnamed: 32'])\n",
    "\n",
    "# Define X and y\n",
    "y = df['diagnosis'].map({'M': 0, 'B': 1})  # mapping M=>0 and B=>1\n",
    "X = df.drop(columns=['diagnosis'])\n",
    "\n",
    "logistic = LogisticRegression(solver='saga')\n",
    "'''\n",
    "hyperparameters = {'penalty': ['l1', 'l2'],\n",
    "                    'C': np.logspace(0, 4, 10)}\n",
    "'''\n",
    "hyperparameters = {'penalty': ['l2'],\n",
    "                    'C': np.logspace(0, 4, 10)}\n",
    "\n",
    "# Normalization\n",
    "# Create a StandardScaler object\n",
    "scaler = StandardScaler()\n",
    "\n",
    "# Fit and transform the feature data\n",
    "x_data_normalized = scaler.fit_transform(X)\n",
    "\n",
    "# x_data_normalized is now a numpy array, you can convert it back to a DataFrame if needed\n",
    "x_data_normalized_df = pd.DataFrame(x_data_normalized, columns=X.columns)\n",
    "\n",
    "# Training with train_test_split\n",
    "X_train, X_test, y_train, y_test = train_test_split(x_data_normalized_df, y, test_size=0.3)\n",
    "\n",
    "# Instantiate LogisticRegression\n",
    "logistic = LogisticRegression()\n",
    "\n",
    "# Use accuracy as the scoring metric\n",
    "#scorer = make_scorer(accuracy_score)\n",
    "\n",
    "# Instantiate GridSearchCV with the logistic regression model and hyperparameters\n",
    "clf = GridSearchCV(logistic, hyperparameters, cv=5, verbose=0)\n",
    "best_model = clf.fit(X_train, y_train)\n",
    "\n",
    "best_params = best_model.best_estimator_.get_params()\n",
    "print(best_params)\n",
    "\n",
    "# Predictions\n",
    "y_pred = best_model.predict(X_test)\n",
    "\n",
    "# Confusion Matrix\n",
    "cm = confusion_matrix(y_test, y_pred)\n",
    "\n",
    "# Plotting the Confusion Matrix using Seaborn's heatmap\n",
    "plt.figure(figsize=(8, 6))\n",
    "sns.heatmap(cm, annot=True, fmt='d', cmap='Blues', xticklabels=['Malignant', 'Benign'], yticklabels=['Malignant', 'Benign'])\n",
    "plt.title('Confusion Matrix')\n",
    "plt.xlabel('Predicted')\n",
    "plt.ylabel('Actual')\n",
    "plt.show()"
   ]
  },
  {
   "cell_type": "code",
   "execution_count": null,
   "id": "8b26d2ee",
   "metadata": {},
   "outputs": [],
   "source": []
  }
 ],
 "metadata": {
  "kernelspec": {
   "display_name": "Python 3 (ipykernel)",
   "language": "python",
   "name": "python3"
  },
  "language_info": {
   "codemirror_mode": {
    "name": "ipython",
    "version": 3
   },
   "file_extension": ".py",
   "mimetype": "text/x-python",
   "name": "python",
   "nbconvert_exporter": "python",
   "pygments_lexer": "ipython3",
   "version": "3.9.13"
  },
  "varInspector": {
   "cols": {
    "lenName": 16,
    "lenType": 16,
    "lenVar": 40
   },
   "kernels_config": {
    "python": {
     "delete_cmd_postfix": "",
     "delete_cmd_prefix": "del ",
     "library": "var_list.py",
     "varRefreshCmd": "print(var_dic_list())"
    },
    "r": {
     "delete_cmd_postfix": ") ",
     "delete_cmd_prefix": "rm(",
     "library": "var_list.r",
     "varRefreshCmd": "cat(var_dic_list()) "
    }
   },
   "types_to_exclude": [
    "module",
    "function",
    "builtin_function_or_method",
    "instance",
    "_Feature"
   ],
   "window_display": false
  }
 },
 "nbformat": 4,
 "nbformat_minor": 5
}
