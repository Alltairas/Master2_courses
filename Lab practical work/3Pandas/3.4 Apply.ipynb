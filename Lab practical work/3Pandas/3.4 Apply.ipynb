{
 "cells": [
  {
   "cell_type": "code",
   "execution_count": 8,
   "id": "066e6806",
   "metadata": {},
   "outputs": [
    {
     "name": "stdout",
     "output_type": "stream",
     "text": [
      "    school sex  age address famsize Pstatus  Medu  Fedu   Mjob     Fjob  \\\n",
      "394     MS   M   19       U     LE3       T     1     1  Other  At_home   \n",
      "\n",
      "     reason guardian  \n",
      "394  course   father  \n"
     ]
    }
   ],
   "source": [
    "import pandas as pd\n",
    "import numpy as np\n",
    "import matplotlib as plt\n",
    "\n",
    "# Read the CSV file into a pandas DataFrame\n",
    "df = pd.read_csv('student-mat.csv',delimiter=',')\n",
    "\n",
    "# Select the columns of interest\n",
    "studAlc = df.loc[:, 'school':'guardian']\n",
    "\n",
    "# Define a function to capitalize the first letter of a string\n",
    "def capitalizer(x):\n",
    "    return x.capitalize()\n",
    "\n",
    "# Apply the capitalizer function to the 'Mjob' and 'Fjob' columns\n",
    "studAlc['Mjob'] = studAlc['Mjob'].apply(capitalizer)\n",
    "studAlc['Fjob'] = studAlc['Fjob'].apply(capitalizer)\n",
    "\n",
    "print(studAlc.iloc[-1:])\n"
   ]
  },
  {
   "cell_type": "markdown",
   "id": "767ce476",
   "metadata": {},
   "source": [
    "You notice that the original dataframe is still lowercase? \n",
    "Why is that? Fix it and capitalize Mjob and Fjob."
   ]
  },
  {
   "cell_type": "raw",
   "id": "4c0e29e4",
   "metadata": {},
   "source": [
    "The reason the original DataFrame is still lowercase is that the changes were made only in the studAlc DataFrame, not in the original df."
   ]
  },
  {
   "cell_type": "code",
   "execution_count": 6,
   "id": "56242dbe",
   "metadata": {},
   "outputs": [
    {
     "name": "stdout",
     "output_type": "stream",
     "text": [
      "0       At_home\n",
      "1       At_home\n",
      "2       At_home\n",
      "3        Health\n",
      "4         Other\n",
      "         ...   \n",
      "390    Services\n",
      "391    Services\n",
      "392       Other\n",
      "393    Services\n",
      "394       Other\n",
      "Name: Mjob, Length: 395, dtype: object\n",
      "0       Teacher\n",
      "1         Other\n",
      "2         Other\n",
      "3      Services\n",
      "4         Other\n",
      "         ...   \n",
      "390    Services\n",
      "391    Services\n",
      "392       Other\n",
      "393       Other\n",
      "394     At_home\n",
      "Name: Fjob, Length: 395, dtype: object\n"
     ]
    }
   ],
   "source": [
    "import pandas as pd\n",
    "import numpy as np\n",
    "import matplotlib.pyplot as plt\n",
    "\n",
    "# Read the CSV file into a pandas DataFrame\n",
    "df = pd.read_csv('student-mat.csv', delimiter=',')\n",
    "\n",
    "# Select the columns of interest\n",
    "studAlc = df.loc[:, 'school':'guardian']\n",
    "\n",
    "# Define a function to capitalize the first letter of a string\n",
    "def capitalizer(x):\n",
    "    return x.capitalize()\n",
    "\n",
    "# Apply the capitalizer function to the 'Mjob' and 'Fjob' columns and assign them back to the original DataFrame\n",
    "df['Mjob'] = df['Mjob'].apply(capitalizer)\n",
    "df['Fjob'] = df['Fjob'].apply(capitalizer)\n",
    "\n",
    "# Print the updated 'Mjob' column in the original DataFrame\n",
    "print(df['Mjob'])\n",
    "print(df['Fjob'])"
   ]
  },
  {
   "cell_type": "code",
   "execution_count": 11,
   "id": "51fee6e8",
   "metadata": {},
   "outputs": [
    {
     "name": "stdout",
     "output_type": "stream",
     "text": [
      "    school sex  age address famsize Pstatus  Medu  Fedu      Mjob      Fjob  \\\n",
      "0       GP   F   18       U     GT3       A     4     4   at_home   teacher   \n",
      "1       GP   F   17       U     GT3       T     1     1   at_home     other   \n",
      "2       GP   F   15       U     LE3       T     1     1   at_home     other   \n",
      "3       GP   F   15       U     GT3       T     4     2    health  services   \n",
      "4       GP   F   16       U     GT3       T     3     3     other     other   \n",
      "..     ...  ..  ...     ...     ...     ...   ...   ...       ...       ...   \n",
      "390     MS   M   20       U     LE3       A     2     2  services  services   \n",
      "391     MS   M   17       U     LE3       T     3     1  services  services   \n",
      "392     MS   M   21       R     GT3       T     1     1     other     other   \n",
      "393     MS   M   18       R     LE3       T     3     2  services     other   \n",
      "394     MS   M   19       U     LE3       T     1     1     other   at_home   \n",
      "\n",
      "     reason guardian  legal_drinker  \n",
      "0    course   mother           True  \n",
      "1    course   father          False  \n",
      "2     other   mother          False  \n",
      "3      home   mother          False  \n",
      "4      home   father          False  \n",
      "..      ...      ...            ...  \n",
      "390  course    other           True  \n",
      "391  course   mother          False  \n",
      "392  course    other           True  \n",
      "393  course   mother           True  \n",
      "394  course   father           True  \n",
      "\n",
      "[395 rows x 13 columns]\n",
      "0       True\n",
      "1      False\n",
      "2      False\n",
      "3      False\n",
      "4      False\n",
      "       ...  \n",
      "390     True\n",
      "391    False\n",
      "392     True\n",
      "393     True\n",
      "394     True\n",
      "Name: legal_drinker, Length: 395, dtype: bool\n"
     ]
    }
   ],
   "source": [
    "import pandas as pd\n",
    "import numpy as np\n",
    "import matplotlib.pyplot as plt\n",
    "\n",
    "# Read the CSV file into a pandas DataFrame\n",
    "df = pd.read_csv('student-mat.csv', delimiter=',')\n",
    "\n",
    "# Select the columns of interest\n",
    "studAlc = df.loc[:, 'school':'guardian']\n",
    "\n",
    "# Define a function that returns true if age>17 and false otherwise\n",
    "def majority(age):\n",
    "    return age >17\n",
    "\n",
    "studAlc_with_legal_drinker = studAlc.assign(legal_drinker = studAlc['age'].apply(majority))\n",
    "print(studAlc_with_legal_drinker)\n",
    "studAlc['legal_drinker'] = studAlc['age'].apply(majority)\n",
    "print(studAlc['legal_drinker'])"
   ]
  },
  {
   "cell_type": "code",
   "execution_count": 13,
   "id": "6427b03d",
   "metadata": {},
   "outputs": [
    {
     "name": "stdout",
     "output_type": "stream",
     "text": [
      "    school sex  age address famsize Pstatus  Medu  Fedu      Mjob      Fjob  \\\n",
      "0       GP   F  180       U     GT3       A    40    40   at_home   teacher   \n",
      "1       GP   F  170       U     GT3       T    10    10   at_home     other   \n",
      "2       GP   F  150       U     LE3       T    10    10   at_home     other   \n",
      "3       GP   F  150       U     GT3       T    40    20    health  services   \n",
      "4       GP   F  160       U     GT3       T    30    30     other     other   \n",
      "..     ...  ..  ...     ...     ...     ...   ...   ...       ...       ...   \n",
      "390     MS   M  200       U     LE3       A    20    20  services  services   \n",
      "391     MS   M  170       U     LE3       T    30    10  services  services   \n",
      "392     MS   M  210       R     GT3       T    10    10     other     other   \n",
      "393     MS   M  180       R     LE3       T    30    20  services     other   \n",
      "394     MS   M  190       U     LE3       T    10    10     other   at_home   \n",
      "\n",
      "     reason guardian  \n",
      "0    course   mother  \n",
      "1    course   father  \n",
      "2     other   mother  \n",
      "3      home   mother  \n",
      "4      home   father  \n",
      "..      ...      ...  \n",
      "390  course    other  \n",
      "391  course   mother  \n",
      "392  course    other  \n",
      "393  course   mother  \n",
      "394  course   father  \n",
      "\n",
      "[395 rows x 12 columns]\n"
     ]
    }
   ],
   "source": [
    "import pandas as pd\n",
    "import numpy as np\n",
    "import matplotlib.pyplot as plt\n",
    "\n",
    "# Read the CSV file into a pandas DataFrame\n",
    "df = pd.read_csv('student-mat.csv', delimiter=',')\n",
    "\n",
    "# Select the columns of interest\n",
    "studAlc = df.loc[:, 'school':'guardian']\n",
    "\n",
    "def timesTen(x):\n",
    "    if isinstance(x, (int, float)):\n",
    "        return 10 * x\n",
    "    else:\n",
    "        return x\n",
    "\n",
    "studAlc_timesTen = studAlc.applymap(timesTen)\n",
    "print(studAlc_timesTen)"
   ]
  },
  {
   "cell_type": "code",
   "execution_count": null,
   "id": "c12a505b",
   "metadata": {},
   "outputs": [],
   "source": []
  }
 ],
 "metadata": {
  "kernelspec": {
   "display_name": "Python 3 (ipykernel)",
   "language": "python",
   "name": "python3"
  },
  "language_info": {
   "codemirror_mode": {
    "name": "ipython",
    "version": 3
   },
   "file_extension": ".py",
   "mimetype": "text/x-python",
   "name": "python",
   "nbconvert_exporter": "python",
   "pygments_lexer": "ipython3",
   "version": "3.9.13"
  },
  "varInspector": {
   "cols": {
    "lenName": 16,
    "lenType": 16,
    "lenVar": 40
   },
   "kernels_config": {
    "python": {
     "delete_cmd_postfix": "",
     "delete_cmd_prefix": "del ",
     "library": "var_list.py",
     "varRefreshCmd": "print(var_dic_list())"
    },
    "r": {
     "delete_cmd_postfix": ") ",
     "delete_cmd_prefix": "rm(",
     "library": "var_list.r",
     "varRefreshCmd": "cat(var_dic_list()) "
    }
   },
   "types_to_exclude": [
    "module",
    "function",
    "builtin_function_or_method",
    "instance",
    "_Feature"
   ],
   "window_display": false
  }
 },
 "nbformat": 4,
 "nbformat_minor": 5
}
