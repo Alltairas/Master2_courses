{
 "cells": [
  {
   "cell_type": "code",
   "execution_count": 25,
   "id": "d0511fcf",
   "metadata": {},
   "outputs": [
    {
     "name": "stdout",
     "output_type": "stream",
     "text": [
      "True\n",
      "             Open   High    Low  Close     Volume  Adj Close\n",
      "Date                                                        \n",
      "2014-07-08  96.27  96.80  93.92  95.35   65130000      95.35\n",
      "2014-07-07  94.14  95.99  94.10  95.97   56305400      95.97\n",
      "2014-07-03  93.67  94.10  93.20  94.03   22891800      94.03\n",
      "2014-07-02  93.87  94.06  93.09  93.48   28420900      93.48\n",
      "2014-07-01  93.52  94.07  93.13  93.52   38170200      93.52\n",
      "...           ...    ...    ...    ...        ...        ...\n",
      "1980-12-18  26.63  26.75  26.63  26.63   18362400       0.41\n",
      "1980-12-17  25.87  26.00  25.87  25.87   21610400       0.40\n",
      "1980-12-16  25.37  25.37  25.25  25.25   26432000       0.39\n",
      "1980-12-15  27.38  27.38  27.25  27.25   43971200       0.42\n",
      "1980-12-12  28.75  28.87  28.75  28.75  117258400       0.45\n",
      "\n",
      "[8465 rows x 6 columns]\n",
      "last Business days: \n",
      "               Open    High     Low   Close     Volume  Adj Close\n",
      "Date                                                            \n",
      "1980-12-31   34.25   34.25   34.13   34.13    8937600       0.53\n",
      "1981-01-30   28.50   28.50   28.25   28.25   11547200       0.44\n",
      "1981-02-27   26.50   26.75   26.50   26.50    3690400       0.41\n",
      "1981-03-31   24.75   24.75   24.50   24.50    3998400       0.38\n",
      "1981-04-30   28.38   28.62   28.38   28.38    3152800       0.44\n",
      "...            ...     ...     ...     ...        ...        ...\n",
      "2014-03-31  539.23  540.81  535.93  536.74   42167300      76.25\n",
      "2014-04-30  592.64  599.43  589.80  590.09  114160200      83.83\n",
      "2014-05-30  637.98  644.17  628.90  633.00  141005200      90.43\n",
      "2014-06-30   92.10   93.73   92.09   92.93   49482300      92.93\n",
      "2014-07-31   96.27   96.80   93.92   95.35   65130000      95.35\n",
      "\n",
      "[404 rows x 6 columns]\n",
      "12265 days 00:00:00\n",
      "Difference in days: 12265\n"
     ]
    }
   ],
   "source": [
    "import pandas as pd\n",
    "import numpy as np\n",
    "import matplotlib.pyplot as plt\n",
    "\n",
    "# Read the CSV file into a pandas DataFrame\n",
    "apple = pd.read_csv('apple_1980_2014.csv', delimiter=',')\n",
    "\n",
    "# Convert the 'Date' column to datetime type\n",
    "apple['Date'] = pd.to_datetime(apple['Date'])\n",
    "\n",
    "# Set 'Date' as the index\n",
    "apple.set_index(['Date'], inplace=True)\n",
    "\n",
    "# Check if there are unique dates\n",
    "print(apple.index.is_unique)\n",
    "\n",
    "# Make the first entry the oldest date (use sort_index)\n",
    "apple.sort_index(ascending=False, inplace=True)  # Corrected to sort in place\n",
    "print(apple)\n",
    "\n",
    "# Resample to get the last business day of each month\n",
    "last_business_day = apple.resample('BM').last()\n",
    "print('last Business days: \\n',last_business_day)\n",
    "\n",
    "# Reset the index to make 'Date' a regular column\n",
    "apple.reset_index(inplace=True)\n",
    "\n",
    "# Calculate the difference in days between the maximum and last index values\n",
    "difference = (last_business_day.index.max() - last_business_day.index.min())\n",
    "difference_in_days = difference.days\n",
    "print(difference)\n",
    "print(\"Difference in days:\", difference_in_days)"
   ]
  },
  {
   "cell_type": "code",
   "execution_count": 26,
   "id": "d3a37564",
   "metadata": {},
   "outputs": [
    {
     "name": "stdout",
     "output_type": "stream",
     "text": [
      "Are dates unique? True\n",
      "Number of unique months = 404\n"
     ]
    }
   ],
   "source": [
    "import pandas as pd\n",
    "import numpy as np\n",
    "import matplotlib.pyplot as plt\n",
    "\n",
    "# Read the CSV file into a pandas DataFrame\n",
    "apple = pd.read_csv('apple_1980_2014.csv', delimiter=',')\n",
    "\n",
    "# Convert the 'Date' column to datetime type\n",
    "apple['Date'] = pd.to_datetime(apple['Date'])\n",
    "\n",
    "# Set 'Date' as the index\n",
    "apple.set_index('Date', inplace=True)\n",
    "\n",
    "# Check if there are unique dates\n",
    "print(\"Are dates unique?\", apple.index.is_unique)\n",
    "\n",
    "# Make the first entry the oldest date (use sort_index)\n",
    "apple.sort_index(ascending=False, inplace=True)\n",
    "\n",
    "# Resample to monthly frequency and count the unique months\n",
    "unique_months = apple.resample('M').size()\n",
    "\n",
    "# Print the number of unique months\n",
    "print('Number of unique months =', unique_months.shape[0])"
   ]
  },
  {
   "cell_type": "code",
   "execution_count": null,
   "id": "9b6d9de9",
   "metadata": {},
   "outputs": [],
   "source": []
  }
 ],
 "metadata": {
  "kernelspec": {
   "display_name": "Python 3 (ipykernel)",
   "language": "python",
   "name": "python3"
  },
  "language_info": {
   "codemirror_mode": {
    "name": "ipython",
    "version": 3
   },
   "file_extension": ".py",
   "mimetype": "text/x-python",
   "name": "python",
   "nbconvert_exporter": "python",
   "pygments_lexer": "ipython3",
   "version": "3.9.13"
  },
  "varInspector": {
   "cols": {
    "lenName": 16,
    "lenType": 16,
    "lenVar": 40
   },
   "kernels_config": {
    "python": {
     "delete_cmd_postfix": "",
     "delete_cmd_prefix": "del ",
     "library": "var_list.py",
     "varRefreshCmd": "print(var_dic_list())"
    },
    "r": {
     "delete_cmd_postfix": ") ",
     "delete_cmd_prefix": "rm(",
     "library": "var_list.r",
     "varRefreshCmd": "cat(var_dic_list()) "
    }
   },
   "types_to_exclude": [
    "module",
    "function",
    "builtin_function_or_method",
    "instance",
    "_Feature"
   ],
   "window_display": false
  }
 },
 "nbformat": 4,
 "nbformat_minor": 5
}
