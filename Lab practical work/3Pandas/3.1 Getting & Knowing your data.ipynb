{
 "cells": [
  {
   "cell_type": "code",
   "execution_count": 13,
   "id": "e949a914",
   "metadata": {},
   "outputs": [
    {
     "name": "stdout",
     "output_type": "stream",
     "text": [
      "   user_id|age|gender|occupation|zip_code\n",
      "0                 1|24|M|technician|85711\n",
      "1                      2|53|F|other|94043\n",
      "2                     3|23|M|writer|32067\n",
      "3                 4|24|M|technician|43537\n",
      "4                      5|33|F|other|15213\n",
      "5                  6|42|M|executive|98101\n",
      "6              7|57|M|administrator|91344\n",
      "7              8|36|M|administrator|05201\n",
      "8                    9|29|M|student|01002\n",
      "9                    10|53|M|lawyer|90703\n",
      "10                    11|39|F|other|30329\n",
      "11                    12|28|F|other|06405\n",
      "12                 13|47|M|educator|29206\n",
      "13                14|45|M|scientist|55106\n",
      "14                 15|49|F|educator|97301\n",
      "15            16|21|M|entertainment|10309\n",
      "16               17|30|M|programmer|06355\n",
      "17                    18|35|F|other|37212\n",
      "18                19|40|M|librarian|02138\n",
      "19                20|42|F|homemaker|95660\n",
      "20                   21|26|M|writer|30068\n",
      "21                   22|25|M|writer|40206\n",
      "22                   23|30|F|artist|48197\n",
      "23                   24|21|F|artist|94533\n",
      "24                 25|39|M|engineer|55107\n",
      "    user_id|age|gender|occupation|zip_code\n",
      "933                934|61|M|engineer|22902\n",
      "934                  935|42|M|doctor|66221\n",
      "935                   936|24|M|other|32789\n",
      "936                937|48|M|educator|98072\n",
      "937              938|38|F|technician|55038\n",
      "938                 939|26|F|student|33319\n",
      "939           940|32|M|administrator|02215\n",
      "940                 941|20|M|student|97229\n",
      "941               942|48|F|librarian|78209\n",
      "942                 943|22|M|student|77841\n",
      "(943, 1)\n",
      "Index(['user_id|age|gender|occupation|zip_code'], dtype='object')\n"
     ]
    }
   ],
   "source": [
    "import pandas as pd\n",
    "\n",
    "# Read the CSV file into a pandas DataFrame\n",
    "df = pd.read_csv('occupations.csv')\n",
    "\n",
    "# Display the first 10 rows of the DataFrame\n",
    "print(df.head(25))\n",
    "\n",
    "# Display the last 10 rows of the DataFrame\n",
    "print(df.tail(10))\n",
    "\n",
    "# Display Count number of rows with each unique value of variable in the DataFrame\n",
    "print(df.shape)\n",
    "print(len(df))\n",
    "\n",
    "print(df.columns)"
   ]
  },
  {
   "cell_type": "markdown",
   "id": "56c1c968",
   "metadata": {},
   "source": [
    "the DataFrame has a single column with a string value containing multiple fields separated by the pipe ('|') character. It appears to be a single string, not separate columns."
   ]
  },
  {
   "cell_type": "code",
   "execution_count": 36,
   "id": "8dd459b9",
   "metadata": {},
   "outputs": [
    {
     "name": "stdout",
     "output_type": "stream",
     "text": [
      "Index(['user_id', 'age', 'gender', 'occupation', 'zip_code'], dtype='object')\n",
      "(943, 5)\n",
      "0         technician\n",
      "1              other\n",
      "2             writer\n",
      "3         technician\n",
      "4              other\n",
      "           ...      \n",
      "938          student\n",
      "939    administrator\n",
      "940          student\n",
      "941        librarian\n",
      "942          student\n",
      "Name: occupation, Length: 943, dtype: object\n",
      "0         technician\n",
      "1              other\n",
      "2             writer\n",
      "3         technician\n",
      "4              other\n",
      "           ...      \n",
      "938          student\n",
      "939    administrator\n",
      "940          student\n",
      "941        librarian\n",
      "942          student\n",
      "Name: occupation, Length: 943, dtype: object\n",
      "['technician' 'other' 'writer' 'executive' 'administrator' 'student'\n",
      " 'lawyer' 'educator' 'scientist' 'entertainment' 'programmer' 'librarian'\n",
      " 'homemaker' 'artist' 'engineer' 'marketing' 'none' 'healthcare' 'retired'\n",
      " 'salesman' 'doctor']\n",
      "the most frequent occupation is  student\n",
      "           user_id         age gender occupation zip_code\n",
      "count   943.000000  943.000000    943        943      943\n",
      "unique         NaN         NaN      2         21      795\n",
      "top            NaN         NaN      M    student    55414\n",
      "freq           NaN         NaN    670        196        9\n",
      "mean    472.000000   34.051962    NaN        NaN      NaN\n",
      "std     272.364951   12.192740    NaN        NaN      NaN\n",
      "min       1.000000    7.000000    NaN        NaN      NaN\n",
      "25%     236.500000   25.000000    NaN        NaN      NaN\n",
      "50%     472.000000   31.000000    NaN        NaN      NaN\n",
      "75%     707.500000   43.000000    NaN        NaN      NaN\n",
      "max     943.000000   73.000000    NaN        NaN      NaN \n",
      "\n",
      "count    943.000000\n",
      "mean     472.000000\n",
      "std      272.364951\n",
      "min        1.000000\n",
      "25%      236.500000\n",
      "50%      472.000000\n",
      "75%      707.500000\n",
      "max      943.000000\n",
      "Name: user_id, dtype: float64 \n",
      " count    943.000000\n",
      "mean      34.051962\n",
      "std       12.192740\n",
      "min        7.000000\n",
      "25%       25.000000\n",
      "50%       31.000000\n",
      "75%       43.000000\n",
      "max       73.000000\n",
      "Name: age, dtype: float64 count     943\n",
      "unique      2\n",
      "top         M\n",
      "freq      670\n",
      "Name: gender, dtype: object \n",
      " count         943\n",
      "unique         21\n",
      "top       student\n",
      "freq          196\n",
      "Name: occupation, dtype: object \n",
      " count       943\n",
      "unique      795\n",
      "top       55414\n",
      "freq          9\n",
      "Name: zip_code, dtype: object\n",
      "count         943\n",
      "unique         21\n",
      "top       student\n",
      "freq          196\n",
      "Name: occupation, dtype: object \n",
      "\n"
     ]
    }
   ],
   "source": [
    "import pandas as pd\n",
    "\n",
    "# Read the CSV file into a pandas DataFrame with '|' as the delimiter\n",
    "df = pd.read_csv('occupations.csv', delimiter='|')\n",
    "\n",
    "print(df.columns)\n",
    "print(df.shape)\n",
    "print(df['occupation'])\n",
    "print(df.occupation) #same thing as the line 8\n",
    "print(df['occupation'].unique()) #print unique occupation strings\n",
    "\n",
    "# Use value_counts to count the occurrences of each occupation\n",
    "occupation_counts = df['occupation'].value_counts()\n",
    "\n",
    "# Find the most frequent occupation\n",
    "most_frequent_occupation = occupation_counts.idxmax()\n",
    "print('the most frequent occupation is ', most_frequent_occupation)\n",
    "\n",
    "print(df.describe(include=\"all\"),'\\n') # will give a simple summary of the number of unique values and most frequently occurring values\n",
    "\n",
    "# Summarize each column individually\n",
    "print(df['user_id'].describe(),'\\n',df['age'].describe(),df['gender'].describe(),'\\n',df['occupation'].describe(),'\\n',df['zip_code'].describe())\n",
    "\n",
    "#summarize occupation column only\n",
    "print(df['occupation'].describe(),'\\n')"
   ]
  },
  {
   "cell_type": "code",
   "execution_count": 37,
   "id": "12708134",
   "metadata": {},
   "outputs": [
    {
     "name": "stdout",
     "output_type": "stream",
     "text": [
      "count    943.000000\n",
      "mean      34.051962\n",
      "std       12.192740\n",
      "min        7.000000\n",
      "25%       25.000000\n",
      "50%       31.000000\n",
      "75%       43.000000\n",
      "max       73.000000\n",
      "Name: age, dtype: float64 \n",
      "\n"
     ]
    }
   ],
   "source": [
    "import pandas as pd\n",
    "\n",
    "# Read the CSV file into a pandas DataFrame with '|' as the delimiter\n",
    "df = pd.read_csv('occupations.csv', delimiter='|')\n",
    "\n",
    "#summarize agen column only\n",
    "print(df['age'].describe(),'\\n')"
   ]
  },
  {
   "cell_type": "markdown",
   "id": "a43344ee",
   "metadata": {},
   "source": [
    "The mean age of users is 34 as it is read above."
   ]
  }
 ],
 "metadata": {
  "kernelspec": {
   "display_name": "Python 3 (ipykernel)",
   "language": "python",
   "name": "python3"
  },
  "language_info": {
   "codemirror_mode": {
    "name": "ipython",
    "version": 3
   },
   "file_extension": ".py",
   "mimetype": "text/x-python",
   "name": "python",
   "nbconvert_exporter": "python",
   "pygments_lexer": "ipython3",
   "version": "3.9.13"
  },
  "varInspector": {
   "cols": {
    "lenName": 16,
    "lenType": 16,
    "lenVar": 40
   },
   "kernels_config": {
    "python": {
     "delete_cmd_postfix": "",
     "delete_cmd_prefix": "del ",
     "library": "var_list.py",
     "varRefreshCmd": "print(var_dic_list())"
    },
    "r": {
     "delete_cmd_postfix": ") ",
     "delete_cmd_prefix": "rm(",
     "library": "var_list.r",
     "varRefreshCmd": "cat(var_dic_list()) "
    }
   },
   "types_to_exclude": [
    "module",
    "function",
    "builtin_function_or_method",
    "instance",
    "_Feature"
   ],
   "window_display": false
  }
 },
 "nbformat": 4,
 "nbformat_minor": 5
}
