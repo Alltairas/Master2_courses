{
 "cells": [
  {
   "cell_type": "code",
   "execution_count": 3,
   "id": "6da272bb",
   "metadata": {},
   "outputs": [
    {
     "name": "stdout",
     "output_type": "stream",
     "text": [
      "  subject_id  test_id\n",
      "0          1       51\n",
      "1          2       15\n",
      "2          3       15\n",
      "3          4       61\n",
      "4          5       16\n",
      "5          7       14\n",
      "6          8       15\n",
      "7          9        1\n",
      "8         10       61\n",
      "9         11       16\n",
      "   subject_id first_name last_name  test_id\n",
      "0           1       Alex  Anderson       51\n",
      "1           2        Amy  Ackerman       15\n",
      "2           3      Allen       Ali       15\n",
      "3           4      Alice      Aoni       61\n",
      "4           4      Billy    Bonder       61\n",
      "5           5     Ayoung   Atiches       16\n",
      "6           5      Brian     Black       16\n",
      "7           7      Bryce     Brice       14\n",
      "8           8      Betty    Btisan       15\n",
      "9           9        NaN       NaN        1\n",
      "10         10        NaN       NaN       61\n",
      "11         11        NaN       NaN       16\n",
      "  subject_id first_name last_name  test_id\n",
      "0          1       Alex  Anderson       51\n",
      "1          2        Amy  Ackerman       15\n",
      "2          3      Allen       Ali       15\n",
      "3          4      Alice      Aoni       61\n",
      "4          4      Billy    Bonder       61\n",
      "5          5     Ayoung   Atiches       16\n",
      "6          5      Brian     Black       16\n",
      "7          7      Bryce     Brice       14\n",
      "8          8      Betty    Btisan       15\n",
      "  subject_id first_name_x last_name_x first_name_y last_name_y\n",
      "0          1         Alex    Anderson          NaN         NaN\n",
      "1          2          Amy    Ackerman          NaN         NaN\n",
      "2          3        Allen         Ali          NaN         NaN\n",
      "3          4        Alice        Aoni        Billy      Bonder\n",
      "4          5       Ayoung     Atiches        Brian       Black\n",
      "5          6          NaN         NaN         Bran     Balwner\n",
      "6          7          NaN         NaN        Bryce       Brice\n",
      "7          8          NaN         NaN        Betty      Btisan\n"
     ]
    }
   ],
   "source": [
    "import numpy as np\n",
    "import pandas as pd\n",
    "import matplotlib as plt\n",
    "\n",
    "\n",
    "# Create DataFrame from dictionaries\n",
    "raw_data_1 = pd.DataFrame({\n",
    "    'subject_id': ['1', '2', '3', '4', '5'],\n",
    "    'first_name': ['Alex', 'Amy', 'Allen', 'Alice', 'Ayoung'],\n",
    "    'last_name': ['Anderson', 'Ackerman', 'Ali', 'Aoni', 'Atiches']\n",
    "})\n",
    "\n",
    "raw_data_2 = pd.DataFrame({\n",
    "    'subject_id': ['4', '5', '6', '7', '8'],\n",
    "    'first_name': ['Billy', 'Brian', 'Bran', 'Bryce', 'Betty'],\n",
    "    'last_name': ['Bonder', 'Black', 'Balwner', 'Brice', 'Btisan']\n",
    "})\n",
    "\n",
    "raw_data_3 = pd.DataFrame({\n",
    " 'subject_id': ['1', '2', '3', '4', '5', '7', '8', '9', '10', '11'],\n",
    "    'test_id': [51, 15, 15, 61, 16, 14, 15, 1, 61, 16]})\n",
    "\n",
    "# Concatenate rows of DataFrames\n",
    "all_data = pd.concat([raw_data_1, raw_data_2], ignore_index=True)\n",
    "\n",
    "# Append columns of dataframes\n",
    "all_data_col = pd.concat([raw_data_1,raw_data_2], axis=1)\n",
    "\n",
    "print(raw_data_3)\n",
    "\n",
    "# Merge all_data and data3 along the subject_id value (use merge)\n",
    "print(pd.merge(all_data, raw_data_3, how='right',on='subject_id'))\n",
    "# Merge only the data that has the same 'subject_id' on both data1 and data2 \n",
    "print(pd.merge(all_data, raw_data_3, how='inner',on='subject_id'))\n",
    "# Merge all values in data1 and data2, with matching records from both sides where available.\n",
    "print(pd.merge(raw_data_1,raw_data_2,how='outer',on='subject_id'))"
   ]
  },
  {
   "cell_type": "code",
   "execution_count": null,
   "id": "987fc775",
   "metadata": {},
   "outputs": [],
   "source": []
  }
 ],
 "metadata": {
  "kernelspec": {
   "display_name": "Python 3 (ipykernel)",
   "language": "python",
   "name": "python3"
  },
  "language_info": {
   "codemirror_mode": {
    "name": "ipython",
    "version": 3
   },
   "file_extension": ".py",
   "mimetype": "text/x-python",
   "name": "python",
   "nbconvert_exporter": "python",
   "pygments_lexer": "ipython3",
   "version": "3.9.13"
  },
  "varInspector": {
   "cols": {
    "lenName": 16,
    "lenType": 16,
    "lenVar": 40
   },
   "kernels_config": {
    "python": {
     "delete_cmd_postfix": "",
     "delete_cmd_prefix": "del ",
     "library": "var_list.py",
     "varRefreshCmd": "print(var_dic_list())"
    },
    "r": {
     "delete_cmd_postfix": ") ",
     "delete_cmd_prefix": "rm(",
     "library": "var_list.r",
     "varRefreshCmd": "cat(var_dic_list()) "
    }
   },
   "types_to_exclude": [
    "module",
    "function",
    "builtin_function_or_method",
    "instance",
    "_Feature"
   ],
   "window_display": false
  }
 },
 "nbformat": 4,
 "nbformat_minor": 5
}
