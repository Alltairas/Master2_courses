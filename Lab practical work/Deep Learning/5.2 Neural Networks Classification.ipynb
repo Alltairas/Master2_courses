{
 "cells": [
  {
   "cell_type": "code",
   "execution_count": 1,
   "id": "5daff2ba-7558-4613-9d2f-908775d6a41f",
   "metadata": {
    "tags": []
   },
   "outputs": [
    {
     "name": "stderr",
     "output_type": "stream",
     "text": [
      "2024-01-11 16:59:40.030974: W tensorflow/stream_executor/platform/default/dso_loader.cc:64] Could not load dynamic library 'libcudart.so.11.0'; dlerror: libcudart.so.11.0: cannot open shared object file: No such file or directory\n",
      "2024-01-11 16:59:40.031021: I tensorflow/stream_executor/cuda/cudart_stub.cc:29] Ignore above cudart dlerror if you do not have a GPU set up on your machine.\n"
     ]
    },
    {
     "name": "stdout",
     "output_type": "stream",
     "text": [
      "TensorFlow version: 2.9.0\n"
     ]
    }
   ],
   "source": [
    "import numpy as np\n",
    "import pandas as pd\n",
    "import matplotlib.pyplot as plt\n",
    "import tensorflow as tf\n",
    "import warnings \n",
    "warnings.filterwarnings(\"ignore\")\n",
    "print(\"TensorFlow version:\", tf.__version__)\n",
    "path = \"/home/pers/allouche/PHY2446M/Data/\""
   ]
  },
  {
   "cell_type": "code",
   "execution_count": 4,
   "id": "1c4900a5-1471-4f1d-ace2-82d3ccb7d310",
   "metadata": {
    "tags": []
   },
   "outputs": [
    {
     "data": {
      "text/html": [
       "<div>\n",
       "<style scoped>\n",
       "    .dataframe tbody tr th:only-of-type {\n",
       "        vertical-align: middle;\n",
       "    }\n",
       "\n",
       "    .dataframe tbody tr th {\n",
       "        vertical-align: top;\n",
       "    }\n",
       "\n",
       "    .dataframe thead th {\n",
       "        text-align: right;\n",
       "    }\n",
       "</style>\n",
       "<table border=\"1\" class=\"dataframe\">\n",
       "  <thead>\n",
       "    <tr style=\"text-align: right;\">\n",
       "      <th></th>\n",
       "      <th>diagnostic</th>\n",
       "      <th>400</th>\n",
       "      <th>402</th>\n",
       "      <th>405</th>\n",
       "      <th>407</th>\n",
       "      <th>410</th>\n",
       "      <th>412</th>\n",
       "      <th>415</th>\n",
       "      <th>417</th>\n",
       "      <th>420</th>\n",
       "      <th>...</th>\n",
       "      <th>2100</th>\n",
       "      <th>2101</th>\n",
       "      <th>2103</th>\n",
       "      <th>2104</th>\n",
       "      <th>2105</th>\n",
       "      <th>2107</th>\n",
       "      <th>2108</th>\n",
       "      <th>2109</th>\n",
       "      <th>2111</th>\n",
       "      <th>2112</th>\n",
       "    </tr>\n",
       "  </thead>\n",
       "  <tbody>\n",
       "    <tr>\n",
       "      <th>0</th>\n",
       "      <td>Healthy</td>\n",
       "      <td>0.0</td>\n",
       "      <td>-0.015237</td>\n",
       "      <td>-0.030607</td>\n",
       "      <td>-0.038309</td>\n",
       "      <td>-0.039078</td>\n",
       "      <td>-0.035809</td>\n",
       "      <td>-0.031176</td>\n",
       "      <td>-0.030395</td>\n",
       "      <td>-0.033311</td>\n",
       "      <td>...</td>\n",
       "      <td>-0.001685</td>\n",
       "      <td>-0.000553</td>\n",
       "      <td>0.000118</td>\n",
       "      <td>0.000566</td>\n",
       "      <td>0.001245</td>\n",
       "      <td>0.000846</td>\n",
       "      <td>0.001106</td>\n",
       "      <td>0.001005</td>\n",
       "      <td>0.000117</td>\n",
       "      <td>0.0</td>\n",
       "    </tr>\n",
       "    <tr>\n",
       "      <th>1</th>\n",
       "      <td>Healthy</td>\n",
       "      <td>0.0</td>\n",
       "      <td>-0.012098</td>\n",
       "      <td>-0.028164</td>\n",
       "      <td>-0.035189</td>\n",
       "      <td>-0.036138</td>\n",
       "      <td>-0.031050</td>\n",
       "      <td>-0.026015</td>\n",
       "      <td>-0.027539</td>\n",
       "      <td>-0.028084</td>\n",
       "      <td>...</td>\n",
       "      <td>-0.002085</td>\n",
       "      <td>-0.000998</td>\n",
       "      <td>0.000278</td>\n",
       "      <td>-0.000123</td>\n",
       "      <td>0.000384</td>\n",
       "      <td>0.001010</td>\n",
       "      <td>0.000583</td>\n",
       "      <td>-0.000397</td>\n",
       "      <td>-0.000160</td>\n",
       "      <td>0.0</td>\n",
       "    </tr>\n",
       "    <tr>\n",
       "      <th>2</th>\n",
       "      <td>Healthy</td>\n",
       "      <td>0.0</td>\n",
       "      <td>-0.013000</td>\n",
       "      <td>-0.029058</td>\n",
       "      <td>-0.035021</td>\n",
       "      <td>-0.034994</td>\n",
       "      <td>-0.033025</td>\n",
       "      <td>-0.028413</td>\n",
       "      <td>-0.028470</td>\n",
       "      <td>-0.029737</td>\n",
       "      <td>...</td>\n",
       "      <td>-0.002707</td>\n",
       "      <td>-0.001554</td>\n",
       "      <td>0.000050</td>\n",
       "      <td>0.000866</td>\n",
       "      <td>0.000877</td>\n",
       "      <td>0.000871</td>\n",
       "      <td>0.001093</td>\n",
       "      <td>0.001058</td>\n",
       "      <td>0.000614</td>\n",
       "      <td>0.0</td>\n",
       "    </tr>\n",
       "    <tr>\n",
       "      <th>3</th>\n",
       "      <td>Healthy</td>\n",
       "      <td>0.0</td>\n",
       "      <td>-0.015728</td>\n",
       "      <td>-0.034346</td>\n",
       "      <td>-0.045140</td>\n",
       "      <td>-0.047671</td>\n",
       "      <td>-0.044334</td>\n",
       "      <td>-0.040807</td>\n",
       "      <td>-0.040474</td>\n",
       "      <td>-0.041417</td>\n",
       "      <td>...</td>\n",
       "      <td>-0.003241</td>\n",
       "      <td>-0.001541</td>\n",
       "      <td>-0.000198</td>\n",
       "      <td>0.000202</td>\n",
       "      <td>0.001023</td>\n",
       "      <td>0.000625</td>\n",
       "      <td>0.000420</td>\n",
       "      <td>0.000543</td>\n",
       "      <td>-0.000071</td>\n",
       "      <td>0.0</td>\n",
       "    </tr>\n",
       "    <tr>\n",
       "      <th>4</th>\n",
       "      <td>Healthy</td>\n",
       "      <td>0.0</td>\n",
       "      <td>-0.020355</td>\n",
       "      <td>-0.045839</td>\n",
       "      <td>-0.060556</td>\n",
       "      <td>-0.065805</td>\n",
       "      <td>-0.064988</td>\n",
       "      <td>-0.062097</td>\n",
       "      <td>-0.061955</td>\n",
       "      <td>-0.064759</td>\n",
       "      <td>...</td>\n",
       "      <td>-0.002151</td>\n",
       "      <td>-0.000088</td>\n",
       "      <td>0.000891</td>\n",
       "      <td>0.000942</td>\n",
       "      <td>0.001294</td>\n",
       "      <td>0.001878</td>\n",
       "      <td>0.001739</td>\n",
       "      <td>0.001946</td>\n",
       "      <td>0.001301</td>\n",
       "      <td>0.0</td>\n",
       "    </tr>\n",
       "    <tr>\n",
       "      <th>...</th>\n",
       "      <td>...</td>\n",
       "      <td>...</td>\n",
       "      <td>...</td>\n",
       "      <td>...</td>\n",
       "      <td>...</td>\n",
       "      <td>...</td>\n",
       "      <td>...</td>\n",
       "      <td>...</td>\n",
       "      <td>...</td>\n",
       "      <td>...</td>\n",
       "      <td>...</td>\n",
       "      <td>...</td>\n",
       "      <td>...</td>\n",
       "      <td>...</td>\n",
       "      <td>...</td>\n",
       "      <td>...</td>\n",
       "      <td>...</td>\n",
       "      <td>...</td>\n",
       "      <td>...</td>\n",
       "      <td>...</td>\n",
       "      <td>...</td>\n",
       "    </tr>\n",
       "    <tr>\n",
       "      <th>304</th>\n",
       "      <td>SARS-CoV-2</td>\n",
       "      <td>0.0</td>\n",
       "      <td>-0.012075</td>\n",
       "      <td>-0.015969</td>\n",
       "      <td>-0.016275</td>\n",
       "      <td>-0.015292</td>\n",
       "      <td>-0.015369</td>\n",
       "      <td>-0.016400</td>\n",
       "      <td>-0.013721</td>\n",
       "      <td>-0.014503</td>\n",
       "      <td>...</td>\n",
       "      <td>-0.001666</td>\n",
       "      <td>-0.000538</td>\n",
       "      <td>0.000050</td>\n",
       "      <td>0.001191</td>\n",
       "      <td>0.001467</td>\n",
       "      <td>0.001823</td>\n",
       "      <td>0.001420</td>\n",
       "      <td>0.001671</td>\n",
       "      <td>0.000966</td>\n",
       "      <td>0.0</td>\n",
       "    </tr>\n",
       "    <tr>\n",
       "      <th>305</th>\n",
       "      <td>SARS-CoV-2</td>\n",
       "      <td>0.0</td>\n",
       "      <td>-0.017376</td>\n",
       "      <td>-0.024656</td>\n",
       "      <td>-0.025636</td>\n",
       "      <td>-0.026982</td>\n",
       "      <td>-0.027625</td>\n",
       "      <td>-0.029134</td>\n",
       "      <td>-0.027138</td>\n",
       "      <td>-0.026919</td>\n",
       "      <td>...</td>\n",
       "      <td>-0.001481</td>\n",
       "      <td>0.000275</td>\n",
       "      <td>0.000287</td>\n",
       "      <td>0.000239</td>\n",
       "      <td>0.000755</td>\n",
       "      <td>0.001314</td>\n",
       "      <td>0.001320</td>\n",
       "      <td>0.000946</td>\n",
       "      <td>0.000392</td>\n",
       "      <td>0.0</td>\n",
       "    </tr>\n",
       "    <tr>\n",
       "      <th>306</th>\n",
       "      <td>SARS-CoV-2</td>\n",
       "      <td>0.0</td>\n",
       "      <td>-0.011666</td>\n",
       "      <td>-0.018976</td>\n",
       "      <td>-0.019419</td>\n",
       "      <td>-0.017430</td>\n",
       "      <td>-0.017057</td>\n",
       "      <td>-0.019041</td>\n",
       "      <td>-0.021120</td>\n",
       "      <td>-0.019771</td>\n",
       "      <td>...</td>\n",
       "      <td>-0.000739</td>\n",
       "      <td>0.001393</td>\n",
       "      <td>0.001246</td>\n",
       "      <td>0.000687</td>\n",
       "      <td>0.001516</td>\n",
       "      <td>0.001923</td>\n",
       "      <td>0.002260</td>\n",
       "      <td>0.001411</td>\n",
       "      <td>0.001238</td>\n",
       "      <td>0.0</td>\n",
       "    </tr>\n",
       "    <tr>\n",
       "      <th>307</th>\n",
       "      <td>SARS-CoV-2</td>\n",
       "      <td>0.0</td>\n",
       "      <td>-0.011431</td>\n",
       "      <td>-0.018292</td>\n",
       "      <td>-0.017184</td>\n",
       "      <td>-0.015339</td>\n",
       "      <td>-0.016573</td>\n",
       "      <td>-0.016317</td>\n",
       "      <td>-0.016650</td>\n",
       "      <td>-0.016017</td>\n",
       "      <td>...</td>\n",
       "      <td>-0.004132</td>\n",
       "      <td>-0.002063</td>\n",
       "      <td>-0.000858</td>\n",
       "      <td>-0.000701</td>\n",
       "      <td>-0.000713</td>\n",
       "      <td>0.000067</td>\n",
       "      <td>0.000204</td>\n",
       "      <td>-0.000403</td>\n",
       "      <td>-0.001296</td>\n",
       "      <td>0.0</td>\n",
       "    </tr>\n",
       "    <tr>\n",
       "      <th>308</th>\n",
       "      <td>SARS-CoV-2</td>\n",
       "      <td>0.0</td>\n",
       "      <td>-0.018928</td>\n",
       "      <td>-0.026700</td>\n",
       "      <td>-0.025570</td>\n",
       "      <td>-0.028584</td>\n",
       "      <td>-0.031157</td>\n",
       "      <td>-0.033729</td>\n",
       "      <td>-0.034759</td>\n",
       "      <td>-0.034358</td>\n",
       "      <td>...</td>\n",
       "      <td>-0.000888</td>\n",
       "      <td>-0.001224</td>\n",
       "      <td>-0.001000</td>\n",
       "      <td>0.000580</td>\n",
       "      <td>0.000546</td>\n",
       "      <td>0.000900</td>\n",
       "      <td>0.000145</td>\n",
       "      <td>-0.000180</td>\n",
       "      <td>-0.000068</td>\n",
       "      <td>0.0</td>\n",
       "    </tr>\n",
       "  </tbody>\n",
       "</table>\n",
       "<p>309 rows × 901 columns</p>\n",
       "</div>"
      ],
      "text/plain": [
       "     diagnostic  400       402       405       407       410       412  \\\n",
       "0       Healthy  0.0 -0.015237 -0.030607 -0.038309 -0.039078 -0.035809   \n",
       "1       Healthy  0.0 -0.012098 -0.028164 -0.035189 -0.036138 -0.031050   \n",
       "2       Healthy  0.0 -0.013000 -0.029058 -0.035021 -0.034994 -0.033025   \n",
       "3       Healthy  0.0 -0.015728 -0.034346 -0.045140 -0.047671 -0.044334   \n",
       "4       Healthy  0.0 -0.020355 -0.045839 -0.060556 -0.065805 -0.064988   \n",
       "..          ...  ...       ...       ...       ...       ...       ...   \n",
       "304  SARS-CoV-2  0.0 -0.012075 -0.015969 -0.016275 -0.015292 -0.015369   \n",
       "305  SARS-CoV-2  0.0 -0.017376 -0.024656 -0.025636 -0.026982 -0.027625   \n",
       "306  SARS-CoV-2  0.0 -0.011666 -0.018976 -0.019419 -0.017430 -0.017057   \n",
       "307  SARS-CoV-2  0.0 -0.011431 -0.018292 -0.017184 -0.015339 -0.016573   \n",
       "308  SARS-CoV-2  0.0 -0.018928 -0.026700 -0.025570 -0.028584 -0.031157   \n",
       "\n",
       "          415       417       420  ...      2100      2101      2103  \\\n",
       "0   -0.031176 -0.030395 -0.033311  ... -0.001685 -0.000553  0.000118   \n",
       "1   -0.026015 -0.027539 -0.028084  ... -0.002085 -0.000998  0.000278   \n",
       "2   -0.028413 -0.028470 -0.029737  ... -0.002707 -0.001554  0.000050   \n",
       "3   -0.040807 -0.040474 -0.041417  ... -0.003241 -0.001541 -0.000198   \n",
       "4   -0.062097 -0.061955 -0.064759  ... -0.002151 -0.000088  0.000891   \n",
       "..        ...       ...       ...  ...       ...       ...       ...   \n",
       "304 -0.016400 -0.013721 -0.014503  ... -0.001666 -0.000538  0.000050   \n",
       "305 -0.029134 -0.027138 -0.026919  ... -0.001481  0.000275  0.000287   \n",
       "306 -0.019041 -0.021120 -0.019771  ... -0.000739  0.001393  0.001246   \n",
       "307 -0.016317 -0.016650 -0.016017  ... -0.004132 -0.002063 -0.000858   \n",
       "308 -0.033729 -0.034759 -0.034358  ... -0.000888 -0.001224 -0.001000   \n",
       "\n",
       "         2104      2105      2107      2108      2109      2111  2112  \n",
       "0    0.000566  0.001245  0.000846  0.001106  0.001005  0.000117   0.0  \n",
       "1   -0.000123  0.000384  0.001010  0.000583 -0.000397 -0.000160   0.0  \n",
       "2    0.000866  0.000877  0.000871  0.001093  0.001058  0.000614   0.0  \n",
       "3    0.000202  0.001023  0.000625  0.000420  0.000543 -0.000071   0.0  \n",
       "4    0.000942  0.001294  0.001878  0.001739  0.001946  0.001301   0.0  \n",
       "..        ...       ...       ...       ...       ...       ...   ...  \n",
       "304  0.001191  0.001467  0.001823  0.001420  0.001671  0.000966   0.0  \n",
       "305  0.000239  0.000755  0.001314  0.001320  0.000946  0.000392   0.0  \n",
       "306  0.000687  0.001516  0.001923  0.002260  0.001411  0.001238   0.0  \n",
       "307 -0.000701 -0.000713  0.000067  0.000204 -0.000403 -0.001296   0.0  \n",
       "308  0.000580  0.000546  0.000900  0.000145 -0.000180 -0.000068   0.0  \n",
       "\n",
       "[309 rows x 901 columns]"
      ]
     },
     "execution_count": 4,
     "metadata": {},
     "output_type": "execute_result"
    }
   ],
   "source": [
    "data = pd.read_csv(path+\"RAMAN_DATA.csv\")\n",
    "data\n",
    "#pd.value_counts('quality')"
   ]
  },
  {
   "cell_type": "code",
   "execution_count": 8,
   "id": "c65288f0-a7c4-4216-b50e-ab70b2888ff4",
   "metadata": {
    "tags": []
   },
   "outputs": [],
   "source": [
    "from sklearn.model_selection import train_test_split\n",
    "\n",
    "if data.isnull().any().any():\n",
    "    data = df.dropna()\n",
    "\n",
    "data['diagnostic'] =data['diagnostic'].replace({'Healthy': 0, 'SARS-CoV-2': 1})"
   ]
  },
  {
   "cell_type": "code",
   "execution_count": 27,
   "id": "0ec73b45-e0e0-48a6-be63-0f9c421bb366",
   "metadata": {
    "tags": []
   },
   "outputs": [
    {
     "data": {
      "text/plain": [
       "[<matplotlib.lines.Line2D at 0x7f0dc16eacd0>]"
      ]
     },
     "execution_count": 27,
     "metadata": {},
     "output_type": "execute_result"
    },
    {
     "data": {
      "image/png": "[encoded data removed]",
      "text/plain": [
       "<Figure size 432x288 with 1 Axes>"
      ]
     },
     "metadata": {
      "needs_background": "light"
     },
     "output_type": "display_data"
    }
   ],
   "source": [
    "positive_diagnosis = data[data['diagnostic'] == 1]\n",
    "negative_diagnosis = data[data['diagnostic'] == 0]\n",
    "plt.plot(positive_diagnosis.iloc[1,1:], label='Positive Diagnosis (Raman)')\n",
    "plt.plot(negative_diagnosis.iloc[1,1:], label='negatif (Raman)')"
   ]
  },
  {
   "cell_type": "code",
   "execution_count": 58,
   "id": "b0d006b6-8173-4816-afb0-fc276764cc35",
   "metadata": {
    "tags": []
   },
   "outputs": [],
   "source": [
    "from sklearn.model_selection import train_test_split\n",
    "\n",
    "X = data.drop(['diagnostic'], axis = 1,)\n",
    "Y = data['diagnostic']\n",
    "X_train, X_test, y_train, y_test = train_test_split(X, Y, train_size=0.8, random_state=42)"
   ]
  },
  {
   "cell_type": "code",
   "execution_count": 59,
   "id": "7473f462-3dcf-4f38-bb35-56658d757a94",
   "metadata": {
    "tags": []
   },
   "outputs": [],
   "source": [
    "model = tf.keras.models.Sequential([\n",
    "  tf.keras.layers.Flatten(input_shape=(X_train.shape[1],1)),\n",
    "  tf.keras.layers.Dense(256, activation='relu'),\n",
    "  tf.keras.layers.Dropout(0.2),\n",
    "  tf.keras.layers.Dense(2,activation='Softmax')\n",
    "])"
   ]
  },
  {
   "cell_type": "code",
   "execution_count": 60,
   "id": "0f425f3f-4f4a-4189-98fd-03301464fca5",
   "metadata": {
    "tags": []
   },
   "outputs": [],
   "source": [
    "loss_fn = tf.keras.losses.SparseCategoricalCrossentropy(from_logits=True)\n",
    "\n",
    "model.compile(optimizer='adam',\n",
    "              loss=loss_fn,\n",
    "              metrics=['accuracy'])"
   ]
  },
  {
   "cell_type": "code",
   "execution_count": 62,
   "id": "700e9d00-4ee4-4314-862e-f599329a0c7e",
   "metadata": {
    "tags": []
   },
   "outputs": [
    {
     "name": "stdout",
     "output_type": "stream",
     "text": [
      "Epoch 1/86\n",
      "8/8 [==============================] - 0s 2ms/step - loss: 0.3761 - accuracy: 0.9433\n",
      "Epoch 2/86\n",
      "8/8 [==============================] - 0s 2ms/step - loss: 0.3747 - accuracy: 0.9433\n",
      "Epoch 3/86\n",
      "8/8 [==============================] - 0s 2ms/step - loss: 0.3768 - accuracy: 0.9393\n",
      "Epoch 4/86\n",
      "8/8 [==============================] - 0s 2ms/step - loss: 0.3753 - accuracy: 0.9433\n",
      "Epoch 5/86\n",
      "8/8 [==============================] - 0s 2ms/step - loss: 0.3766 - accuracy: 0.9393\n",
      "Epoch 6/86\n",
      "8/8 [==============================] - 0s 2ms/step - loss: 0.3745 - accuracy: 0.9352\n",
      "Epoch 7/86\n",
      "8/8 [==============================] - 0s 2ms/step - loss: 0.3733 - accuracy: 0.9352\n",
      "Epoch 8/86\n",
      "8/8 [==============================] - 0s 2ms/step - loss: 0.3704 - accuracy: 0.9514\n",
      "Epoch 9/86\n",
      "8/8 [==============================] - 0s 2ms/step - loss: 0.3729 - accuracy: 0.9433\n",
      "Epoch 10/86\n",
      "8/8 [==============================] - 0s 2ms/step - loss: 0.3750 - accuracy: 0.9433\n",
      "Epoch 11/86\n",
      "8/8 [==============================] - 0s 2ms/step - loss: 0.3728 - accuracy: 0.9433\n",
      "Epoch 12/86\n",
      "8/8 [==============================] - 0s 2ms/step - loss: 0.3759 - accuracy: 0.9433\n",
      "Epoch 13/86\n",
      "8/8 [==============================] - 0s 2ms/step - loss: 0.3755 - accuracy: 0.9393\n",
      "Epoch 14/86\n",
      "8/8 [==============================] - 0s 2ms/step - loss: 0.3764 - accuracy: 0.9393\n",
      "Epoch 15/86\n",
      "8/8 [==============================] - 0s 2ms/step - loss: 0.3781 - accuracy: 0.9433\n",
      "Epoch 16/86\n",
      "8/8 [==============================] - 0s 2ms/step - loss: 0.3752 - accuracy: 0.9393\n",
      "Epoch 17/86\n",
      "8/8 [==============================] - 0s 2ms/step - loss: 0.3718 - accuracy: 0.9474\n",
      "Epoch 18/86\n",
      "8/8 [==============================] - 0s 2ms/step - loss: 0.3727 - accuracy: 0.9433\n",
      "Epoch 19/86\n",
      "8/8 [==============================] - 0s 2ms/step - loss: 0.3690 - accuracy: 0.9474\n",
      "Epoch 20/86\n",
      "8/8 [==============================] - 0s 2ms/step - loss: 0.3724 - accuracy: 0.9433\n",
      "Epoch 21/86\n",
      "8/8 [==============================] - 0s 2ms/step - loss: 0.3747 - accuracy: 0.9393\n",
      "Epoch 22/86\n",
      "8/8 [==============================] - 0s 2ms/step - loss: 0.3713 - accuracy: 0.9433\n",
      "Epoch 23/86\n",
      "8/8 [==============================] - 0s 2ms/step - loss: 0.3703 - accuracy: 0.9474\n",
      "Epoch 24/86\n",
      "8/8 [==============================] - 0s 2ms/step - loss: 0.3672 - accuracy: 0.9474\n",
      "Epoch 25/86\n",
      "8/8 [==============================] - 0s 2ms/step - loss: 0.3716 - accuracy: 0.9393\n",
      "Epoch 26/86\n",
      "8/8 [==============================] - 0s 2ms/step - loss: 0.3703 - accuracy: 0.9433\n",
      "Epoch 27/86\n",
      "8/8 [==============================] - 0s 2ms/step - loss: 0.3689 - accuracy: 0.9433\n",
      "Epoch 28/86\n",
      "8/8 [==============================] - 0s 2ms/step - loss: 0.3727 - accuracy: 0.9474\n",
      "Epoch 29/86\n",
      "8/8 [==============================] - 0s 2ms/step - loss: 0.3698 - accuracy: 0.9433\n",
      "Epoch 30/86\n",
      "8/8 [==============================] - 0s 2ms/step - loss: 0.3695 - accuracy: 0.9433\n",
      "Epoch 31/86\n",
      "8/8 [==============================] - 0s 2ms/step - loss: 0.3739 - accuracy: 0.9474\n",
      "Epoch 32/86\n",
      "8/8 [==============================] - 0s 2ms/step - loss: 0.3706 - accuracy: 0.9433\n",
      "Epoch 33/86\n",
      "8/8 [==============================] - 0s 2ms/step - loss: 0.3692 - accuracy: 0.9514\n",
      "Epoch 34/86\n",
      "8/8 [==============================] - 0s 2ms/step - loss: 0.3700 - accuracy: 0.9474\n",
      "Epoch 35/86\n",
      "8/8 [==============================] - 0s 2ms/step - loss: 0.3682 - accuracy: 0.9474\n",
      "Epoch 36/86\n",
      "8/8 [==============================] - 0s 2ms/step - loss: 0.3678 - accuracy: 0.9555\n",
      "Epoch 37/86\n",
      "8/8 [==============================] - 0s 2ms/step - loss: 0.3673 - accuracy: 0.9474\n",
      "Epoch 38/86\n",
      "8/8 [==============================] - 0s 2ms/step - loss: 0.3687 - accuracy: 0.9514\n",
      "Epoch 39/86\n",
      "8/8 [==============================] - 0s 2ms/step - loss: 0.3742 - accuracy: 0.9393\n",
      "Epoch 40/86\n",
      "8/8 [==============================] - 0s 2ms/step - loss: 0.3679 - accuracy: 0.9514\n",
      "Epoch 41/86\n",
      "8/8 [==============================] - 0s 2ms/step - loss: 0.3670 - accuracy: 0.9514\n",
      "Epoch 42/86\n",
      "8/8 [==============================] - 0s 2ms/step - loss: 0.3687 - accuracy: 0.9474\n",
      "Epoch 43/86\n",
      "8/8 [==============================] - 0s 2ms/step - loss: 0.3636 - accuracy: 0.9514\n",
      "Epoch 44/86\n",
      "8/8 [==============================] - 0s 2ms/step - loss: 0.3671 - accuracy: 0.9555\n",
      "Epoch 45/86\n",
      "8/8 [==============================] - 0s 2ms/step - loss: 0.3657 - accuracy: 0.9514\n",
      "Epoch 46/86\n",
      "8/8 [==============================] - 0s 2ms/step - loss: 0.3673 - accuracy: 0.9433\n",
      "Epoch 47/86\n",
      "8/8 [==============================] - 0s 2ms/step - loss: 0.3674 - accuracy: 0.9474\n",
      "Epoch 48/86\n",
      "8/8 [==============================] - 0s 2ms/step - loss: 0.3673 - accuracy: 0.9514\n",
      "Epoch 49/86\n",
      "8/8 [==============================] - 0s 2ms/step - loss: 0.3662 - accuracy: 0.9474\n",
      "Epoch 50/86\n",
      "8/8 [==============================] - 0s 2ms/step - loss: 0.3709 - accuracy: 0.9474\n",
      "Epoch 51/86\n",
      "8/8 [==============================] - 0s 2ms/step - loss: 0.3689 - accuracy: 0.9474\n",
      "Epoch 52/86\n",
      "8/8 [==============================] - 0s 2ms/step - loss: 0.3644 - accuracy: 0.9514\n",
      "Epoch 53/86\n",
      "8/8 [==============================] - 0s 2ms/step - loss: 0.3650 - accuracy: 0.9595\n",
      "Epoch 54/86\n",
      "8/8 [==============================] - 0s 2ms/step - loss: 0.3641 - accuracy: 0.9514\n",
      "Epoch 55/86\n",
      "8/8 [==============================] - 0s 2ms/step - loss: 0.3679 - accuracy: 0.9433\n",
      "Epoch 56/86\n",
      "8/8 [==============================] - 0s 2ms/step - loss: 0.3669 - accuracy: 0.9514\n",
      "Epoch 57/86\n",
      "8/8 [==============================] - 0s 2ms/step - loss: 0.3621 - accuracy: 0.9555\n",
      "Epoch 58/86\n",
      "8/8 [==============================] - 0s 2ms/step - loss: 0.3602 - accuracy: 0.9636\n",
      "Epoch 59/86\n",
      "8/8 [==============================] - 0s 2ms/step - loss: 0.3700 - accuracy: 0.9433\n",
      "Epoch 60/86\n",
      "8/8 [==============================] - 0s 2ms/step - loss: 0.3635 - accuracy: 0.9595\n",
      "Epoch 61/86\n",
      "8/8 [==============================] - 0s 2ms/step - loss: 0.3609 - accuracy: 0.9555\n",
      "Epoch 62/86\n",
      "8/8 [==============================] - 0s 2ms/step - loss: 0.3643 - accuracy: 0.9514\n",
      "Epoch 63/86\n",
      "8/8 [==============================] - 0s 2ms/step - loss: 0.3658 - accuracy: 0.9514\n",
      "Epoch 64/86\n",
      "8/8 [==============================] - 0s 2ms/step - loss: 0.3648 - accuracy: 0.9474\n",
      "Epoch 65/86\n",
      "8/8 [==============================] - 0s 2ms/step - loss: 0.3660 - accuracy: 0.9514\n",
      "Epoch 66/86\n",
      "8/8 [==============================] - 0s 2ms/step - loss: 0.3600 - accuracy: 0.9595\n",
      "Epoch 67/86\n",
      "8/8 [==============================] - 0s 2ms/step - loss: 0.3650 - accuracy: 0.9514\n",
      "Epoch 68/86\n",
      "8/8 [==============================] - 0s 2ms/step - loss: 0.3635 - accuracy: 0.9514\n",
      "Epoch 69/86\n",
      "8/8 [==============================] - 0s 2ms/step - loss: 0.3627 - accuracy: 0.9555\n",
      "Epoch 70/86\n",
      "8/8 [==============================] - 0s 2ms/step - loss: 0.3632 - accuracy: 0.9514\n",
      "Epoch 71/86\n",
      "8/8 [==============================] - 0s 2ms/step - loss: 0.3620 - accuracy: 0.9555\n",
      "Epoch 72/86\n",
      "8/8 [==============================] - 0s 2ms/step - loss: 0.3669 - accuracy: 0.9474\n",
      "Epoch 73/86\n",
      "8/8 [==============================] - 0s 2ms/step - loss: 0.3633 - accuracy: 0.9555\n",
      "Epoch 74/86\n",
      "8/8 [==============================] - 0s 2ms/step - loss: 0.3647 - accuracy: 0.9514\n",
      "Epoch 75/86\n",
      "8/8 [==============================] - 0s 2ms/step - loss: 0.3629 - accuracy: 0.9514\n",
      "Epoch 76/86\n",
      "8/8 [==============================] - 0s 2ms/step - loss: 0.3578 - accuracy: 0.9595\n",
      "Epoch 77/86\n",
      "8/8 [==============================] - 0s 2ms/step - loss: 0.3633 - accuracy: 0.9555\n",
      "Epoch 78/86\n",
      "8/8 [==============================] - 0s 2ms/step - loss: 0.3665 - accuracy: 0.9514\n",
      "Epoch 79/86\n",
      "8/8 [==============================] - 0s 2ms/step - loss: 0.3670 - accuracy: 0.9474\n",
      "Epoch 80/86\n",
      "8/8 [==============================] - 0s 2ms/step - loss: 0.3633 - accuracy: 0.9514\n",
      "Epoch 81/86\n",
      "8/8 [==============================] - 0s 2ms/step - loss: 0.3644 - accuracy: 0.9474\n",
      "Epoch 82/86\n",
      "8/8 [==============================] - 0s 2ms/step - loss: 0.3608 - accuracy: 0.9555\n",
      "Epoch 83/86\n",
      "8/8 [==============================] - 0s 2ms/step - loss: 0.3596 - accuracy: 0.9555\n",
      "Epoch 84/86\n",
      "8/8 [==============================] - 0s 2ms/step - loss: 0.3600 - accuracy: 0.9514\n",
      "Epoch 85/86\n",
      "8/8 [==============================] - 0s 2ms/step - loss: 0.3590 - accuracy: 0.9555\n",
      "Epoch 86/86\n",
      "8/8 [==============================] - 0s 2ms/step - loss: 0.3633 - accuracy: 0.9555\n"
     ]
    },
    {
     "data": {
      "text/plain": [
       "<keras.callbacks.History at 0x7f0ca4314cd0>"
      ]
     },
     "execution_count": 62,
     "metadata": {},
     "output_type": "execute_result"
    }
   ],
   "source": [
    "model.fit(X_train, y_train, epochs=86)"
   ]
  },
  {
   "cell_type": "code",
   "execution_count": 63,
   "id": "c34914dd-e129-4512-8ac6-2f98299d3cbc",
   "metadata": {
    "tags": []
   },
   "outputs": [
    {
     "name": "stdout",
     "output_type": "stream",
     "text": [
      "2/2 - 0s - loss: 0.3375 - accuracy: 0.9839 - 89ms/epoch - 44ms/step\n"
     ]
    },
    {
     "data": {
      "text/plain": [
       "[0.33748817443847656, 0.9838709831237793]"
      ]
     },
     "execution_count": 63,
     "metadata": {},
     "output_type": "execute_result"
    }
   ],
   "source": [
    "model.evaluate(X_test,  y_test, verbose=2)"
   ]
  },
  {
   "cell_type": "code",
   "execution_count": 75,
   "id": "94f577cb-26f7-47d4-bf9c-aaefeef294af",
   "metadata": {
    "tags": []
   },
   "outputs": [
    {
     "name": "stdout",
     "output_type": "stream",
     "text": [
      "2/2 [==============================] - 0s 2ms/step\n",
      "tf.Tensor(\n",
      "[1 0 0 0 0 0 0 1 1 0 0 1 1 1 1 1 0 1 1 1 0 0 0 1 0 1 0 0 0 1 0 0 0 1 0 0 0\n",
      " 0 1 0 0 0 1 1 1 1 1 0 1 0 0 1 0 0 1 1 1 1 1 1 1 1], shape=(62,), dtype=int64)\n"
     ]
    }
   ],
   "source": [
    "y_pred = model.predict(X_test)\n",
    "y_pred=tf.math.argmax(y_pred,axis=1)\n",
    "print(y_pred)"
   ]
  },
  {
   "cell_type": "code",
   "execution_count": 77,
   "id": "6546d9cd-b1e5-4208-ac12-2a76fb70b2d2",
   "metadata": {
    "tags": []
   },
   "outputs": [
    {
     "name": "stdout",
     "output_type": "stream",
     "text": [
      "              precision    recall  f1-score   support\n",
      "\n",
      "           0       0.97      1.00      0.98        30\n",
      "           1       1.00      0.97      0.98        32\n",
      "\n",
      "    accuracy                           0.98        62\n",
      "   macro avg       0.98      0.98      0.98        62\n",
      "weighted avg       0.98      0.98      0.98        62\n",
      "\n"
     ]
    }
   ],
   "source": [
    "from sklearn.metrics import classification_report \n",
    "print(classification_report(y_test, y_pred))"
   ]
  },
  {
   "cell_type": "code",
   "execution_count": 78,
   "id": "2fe342e7-f06a-44a1-a54f-3b701beaed2f",
   "metadata": {
    "tags": []
   },
   "outputs": [
    {
     "data": {
      "text/plain": [
       "array([[30,  0],\n",
       "       [ 1, 31]])"
      ]
     },
     "execution_count": 78,
     "metadata": {},
     "output_type": "execute_result"
    }
   ],
   "source": [
    "from sklearn.metrics  import confusion_matrix \n",
    "confusion_matrix(y_test, y_pred)"
   ]
  },
  {
   "cell_type": "code",
   "execution_count": 79,
   "id": "5e34d22e-2897-4f26-8759-be0f2fcd89c7",
   "metadata": {
    "tags": []
   },
   "outputs": [
    {
     "data": {
      "text/plain": [
       "<AxesSubplot:>"
      ]
     },
     "execution_count": 79,
     "metadata": {},
     "output_type": "execute_result"
    },
    {
     "data": {
      "image/png": "[encoded data removed]",
      "text/plain": [
       "<Figure size 432x288 with 2 Axes>"
      ]
     },
     "metadata": {
      "needs_background": "light"
     },
     "output_type": "display_data"
    }
   ],
   "source": [
    "import seaborn as sns\n",
    "cm = confusion_matrix(y_test, y_pred) \n",
    "sns.heatmap(cm, annot=True,fmt='d')"
   ]
  },
  {
   "cell_type": "code",
   "execution_count": null,
   "id": "1ce4634b-9d02-4869-8d86-a0beb820b9d8",
   "metadata": {},
   "outputs": [],
   "source": [
    "from sklearn.ensemble import RandomForestClassification"
   ]
  }
 ],
 "metadata": {
  "kernelspec": {
   "display_name": "Python 3 (ipykernel)",
   "language": "python",
   "name": "python3"
  },
  "language_info": {
   "codemirror_mode": {
    "name": "ipython",
    "version": 3
   },
   "file_extension": ".py",
   "mimetype": "text/x-python",
   "name": "python",
   "nbconvert_exporter": "python",
   "pygments_lexer": "ipython3",
   "version": "3.9.13"
  }
 },
 "nbformat": 4,
 "nbformat_minor": 5
}
