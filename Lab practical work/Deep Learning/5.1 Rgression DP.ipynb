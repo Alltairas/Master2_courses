{
 "cells": [
  {
   "cell_type": "code",
   "execution_count": 41,
   "id": "098ce7ad",
   "metadata": {},
   "outputs": [],
   "source": [
    "import numpy as np\n",
    "import matplotlib.pyplot as plt\n",
    "import pandas as pd\n",
    "import tensorflow as tf\n",
    "from sklearn.model_selection import train_test_split\n",
    "from sklearn.metrics import accuracy_score, make_scorer, r2_score\n",
    "import warnings\n",
    "warnings.filterwarnings(\"ignore\")\n"
   ]
  },
  {
   "cell_type": "markdown",
   "id": "31468814",
   "metadata": {},
   "source": [
    "Load data"
   ]
  },
  {
   "cell_type": "code",
   "execution_count": 6,
   "id": "a3576cd6",
   "metadata": {},
   "outputs": [],
   "source": [
    "# Read the CSV file into a pandas DataFrame\n",
    "df_wine = pd.read_csv(\"winequality.csv\", delimiter=';')"
   ]
  },
  {
   "cell_type": "code",
   "execution_count": 14,
   "id": "b2d3c7c1",
   "metadata": {},
   "outputs": [
    {
     "name": "stdout",
     "output_type": "stream",
     "text": [
      "      fixed acidity  volatile acidity  citric acid  residual sugar  chlorides  \\\n",
      "0               7.0              0.27         0.36            20.7      0.045   \n",
      "1               6.3              0.30         0.34             1.6      0.049   \n",
      "2               8.1              0.28         0.40             6.9      0.050   \n",
      "3               7.2              0.23         0.32             8.5      0.058   \n",
      "4               7.2              0.23         0.32             8.5      0.058   \n",
      "...             ...               ...          ...             ...        ...   \n",
      "4893            6.2              0.21         0.29             1.6      0.039   \n",
      "4894            6.6              0.32         0.36             8.0      0.047   \n",
      "4895            6.5              0.24         0.19             1.2      0.041   \n",
      "4896            5.5              0.29         0.30             1.1      0.022   \n",
      "4897            6.0              0.21         0.38             0.8      0.020   \n",
      "\n",
      "      free sulfur dioxide  total sulfur dioxide  density    pH  sulphates  \\\n",
      "0                    45.0                 170.0  1.00100  3.00       0.45   \n",
      "1                    14.0                 132.0  0.99400  3.30       0.49   \n",
      "2                    30.0                  97.0  0.99510  3.26       0.44   \n",
      "3                    47.0                 186.0  0.99560  3.19       0.40   \n",
      "4                    47.0                 186.0  0.99560  3.19       0.40   \n",
      "...                   ...                   ...      ...   ...        ...   \n",
      "4893                 24.0                  92.0  0.99114  3.27       0.50   \n",
      "4894                 57.0                 168.0  0.99490  3.15       0.46   \n",
      "4895                 30.0                 111.0  0.99254  2.99       0.46   \n",
      "4896                 20.0                 110.0  0.98869  3.34       0.38   \n",
      "4897                 22.0                  98.0  0.98941  3.26       0.32   \n",
      "\n",
      "      alcohol  quality  \n",
      "0         8.8        6  \n",
      "1         9.5        6  \n",
      "2        10.1        6  \n",
      "3         9.9        6  \n",
      "4         9.9        6  \n",
      "...       ...      ...  \n",
      "4893     11.2        6  \n",
      "4894      9.6        5  \n",
      "4895      9.4        6  \n",
      "4896     12.8        7  \n",
      "4897     11.8        6  \n",
      "\n",
      "[4898 rows x 12 columns]\n"
     ]
    }
   ],
   "source": [
    "print(df_wine)"
   ]
  },
  {
   "cell_type": "code",
   "execution_count": 18,
   "id": "12f73855",
   "metadata": {},
   "outputs": [],
   "source": [
    "x = df_wine.drop(columns=['quality'])\n",
    "y =  df_wine.iloc[:, -1]"
   ]
  },
  {
   "cell_type": "code",
   "execution_count": 73,
   "id": "5f8e2e43",
   "metadata": {},
   "outputs": [],
   "source": [
    "# Training with train_test_split\n",
    "x_train, x_test, y_train, y_test = train_test_split(x, y, train_size=3000)"
   ]
  },
  {
   "cell_type": "code",
   "execution_count": 74,
   "id": "7bb8cb1c",
   "metadata": {},
   "outputs": [
    {
     "name": "stdout",
     "output_type": "stream",
     "text": [
      "(3000, 11)\n",
      "(3000,)\n",
      "(1898, 11)\n",
      "(1898,)\n"
     ]
    }
   ],
   "source": [
    "print(x_train.shape)\n",
    "print(y_train.shape)\n",
    "print(x_test.shape)\n",
    "print(y_test.shape)"
   ]
  },
  {
   "cell_type": "markdown",
   "id": "8037d541",
   "metadata": {},
   "source": [
    "Build model"
   ]
  },
  {
   "cell_type": "code",
   "execution_count": 75,
   "id": "708b0c5a",
   "metadata": {},
   "outputs": [],
   "source": [
    "model = tf.keras.models.Sequential([\n",
    "    tf.keras.layers.Flatten(input_shape=(x_train.shape[1],1)),\n",
    "    tf.keras.layers.Dense(256, activation='relu'),\n",
    "    tf.keras.layers.Dropout(0.2),\n",
    "    tf.keras.layers.Dense(1)\n",
    "])"
   ]
  },
  {
   "cell_type": "code",
   "execution_count": 76,
   "id": "ae967a58",
   "metadata": {},
   "outputs": [
    {
     "name": "stdout",
     "output_type": "stream",
     "text": [
      "Model: \"sequential_3\"\n",
      "_________________________________________________________________\n",
      " Layer (type)                Output Shape              Param #   \n",
      "=================================================================\n",
      " flatten_3 (Flatten)         (None, 11)                0         \n",
      "                                                                 \n",
      " dense_6 (Dense)             (None, 256)               3072      \n",
      "                                                                 \n",
      " dropout_3 (Dropout)         (None, 256)               0         \n",
      "                                                                 \n",
      " dense_7 (Dense)             (None, 1)                 257       \n",
      "                                                                 \n",
      "=================================================================\n",
      "Total params: 3329 (13.00 KB)\n",
      "Trainable params: 3329 (13.00 KB)\n",
      "Non-trainable params: 0 (0.00 Byte)\n",
      "_________________________________________________________________\n"
     ]
    }
   ],
   "source": [
    "model.summary()"
   ]
  },
  {
   "cell_type": "markdown",
   "id": "02c5d38f",
   "metadata": {},
   "source": [
    "Compile"
   ]
  },
  {
   "cell_type": "code",
   "execution_count": 77,
   "id": "bc7c7b8f",
   "metadata": {},
   "outputs": [],
   "source": [
    "model.compile(optimizer='adam',\n",
    "                loss='mse',\n",
    "                metrics=['mae'])"
   ]
  },
  {
   "cell_type": "code",
   "execution_count": 79,
   "id": "c871feb2",
   "metadata": {},
   "outputs": [
    {
     "name": "stdout",
     "output_type": "stream",
     "text": [
      "Epoch 1/20\n",
      "94/94 [==============================] - 0s 5ms/step - loss: 0.7088 - mae: 0.6578\n",
      "Epoch 2/20\n",
      "94/94 [==============================] - 0s 5ms/step - loss: 0.7184 - mae: 0.6641\n",
      "Epoch 3/20\n",
      "94/94 [==============================] - 1s 5ms/step - loss: 0.6992 - mae: 0.6548\n",
      "Epoch 4/20\n",
      "94/94 [==============================] - 1s 6ms/step - loss: 0.6900 - mae: 0.6507\n",
      "Epoch 5/20\n",
      "94/94 [==============================] - 1s 5ms/step - loss: 0.6845 - mae: 0.6518\n",
      "Epoch 6/20\n",
      "94/94 [==============================] - 0s 4ms/step - loss: 0.7161 - mae: 0.6637\n",
      "Epoch 7/20\n",
      "94/94 [==============================] - 1s 6ms/step - loss: 0.6803 - mae: 0.6470\n",
      "Epoch 8/20\n",
      "94/94 [==============================] - 1s 6ms/step - loss: 0.6980 - mae: 0.6557\n",
      "Epoch 9/20\n",
      "94/94 [==============================] - 1s 6ms/step - loss: 0.6917 - mae: 0.6531\n",
      "Epoch 10/20\n",
      "94/94 [==============================] - 1s 7ms/step - loss: 0.6894 - mae: 0.6508\n",
      "Epoch 11/20\n",
      "94/94 [==============================] - 1s 6ms/step - loss: 0.7023 - mae: 0.6542\n",
      "Epoch 12/20\n",
      "94/94 [==============================] - 1s 7ms/step - loss: 0.6903 - mae: 0.6491\n",
      "Epoch 13/20\n",
      "94/94 [==============================] - 1s 6ms/step - loss: 0.7024 - mae: 0.6593\n",
      "Epoch 14/20\n",
      "94/94 [==============================] - 1s 6ms/step - loss: 0.6925 - mae: 0.6542\n",
      "Epoch 15/20\n",
      "94/94 [==============================] - 1s 6ms/step - loss: 0.6797 - mae: 0.6484\n",
      "Epoch 16/20\n",
      "94/94 [==============================] - 1s 7ms/step - loss: 0.6904 - mae: 0.6467\n",
      "Epoch 17/20\n",
      "94/94 [==============================] - 1s 6ms/step - loss: 0.6757 - mae: 0.6467\n",
      "Epoch 18/20\n",
      "94/94 [==============================] - 1s 7ms/step - loss: 0.6693 - mae: 0.6406\n",
      "Epoch 19/20\n",
      "94/94 [==============================] - 1s 5ms/step - loss: 0.6735 - mae: 0.6422\n",
      "Epoch 20/20\n",
      "94/94 [==============================] - 1s 6ms/step - loss: 0.6947 - mae: 0.6521\n"
     ]
    },
    {
     "data": {
      "text/plain": [
       "<keras.src.callbacks.History at 0x1051501f160>"
      ]
     },
     "execution_count": 79,
     "metadata": {},
     "output_type": "execute_result"
    }
   ],
   "source": [
    "model.fit(x_train, y_train, epochs = 20)"
   ]
  },
  {
   "cell_type": "code",
   "execution_count": 80,
   "id": "0b09b814",
   "metadata": {},
   "outputs": [
    {
     "name": "stdout",
     "output_type": "stream",
     "text": [
      "60/60 [==============================] - 0s 2ms/step\n"
     ]
    }
   ],
   "source": [
    "y_pred = model.predict(x_test)"
   ]
  },
  {
   "cell_type": "code",
   "execution_count": 81,
   "id": "6b60a740",
   "metadata": {},
   "outputs": [
    {
     "name": "stdout",
     "output_type": "stream",
     "text": [
      "0.28657490826832066\n"
     ]
    }
   ],
   "source": [
    "print(r2_score(y_test, y_pred))"
   ]
  },
  {
   "cell_type": "code",
   "execution_count": 83,
   "id": "4fe70cc5",
   "metadata": {},
   "outputs": [
    {
     "name": "stdout",
     "output_type": "stream",
     "text": [
      "Epoch 1/20\n",
      "75/75 [==============================] - 0s 6ms/step - loss: 0.6626 - mae: 0.6364 - val_loss: 0.6212 - val_mae: 0.6125\n",
      "Epoch 2/20\n",
      "75/75 [==============================] - 0s 5ms/step - loss: 0.6488 - mae: 0.6300 - val_loss: 0.5983 - val_mae: 0.5985\n",
      "Epoch 3/20\n",
      "75/75 [==============================] - 0s 5ms/step - loss: 0.6667 - mae: 0.6405 - val_loss: 0.6244 - val_mae: 0.6134\n",
      "Epoch 4/20\n",
      "75/75 [==============================] - 0s 6ms/step - loss: 0.6488 - mae: 0.6304 - val_loss: 0.5960 - val_mae: 0.5965\n",
      "Epoch 5/20\n",
      "75/75 [==============================] - 0s 5ms/step - loss: 0.6568 - mae: 0.6376 - val_loss: 0.5918 - val_mae: 0.5964\n",
      "Epoch 6/20\n",
      "75/75 [==============================] - 1s 8ms/step - loss: 0.6717 - mae: 0.6452 - val_loss: 0.6116 - val_mae: 0.6019\n",
      "Epoch 7/20\n",
      "75/75 [==============================] - 1s 8ms/step - loss: 0.6358 - mae: 0.6208 - val_loss: 0.5947 - val_mae: 0.5967\n",
      "Epoch 8/20\n",
      "75/75 [==============================] - 0s 5ms/step - loss: 0.6534 - mae: 0.6366 - val_loss: 0.6227 - val_mae: 0.6161\n"
     ]
    },
    {
     "data": {
      "text/plain": [
       "7"
      ]
     },
     "execution_count": 83,
     "metadata": {},
     "output_type": "execute_result"
    }
   ],
   "source": [
    "callbacks = tf.keras.callbacks.EarlyStopping(monitor='val_loss', patience=3)\n",
    "history = model.fit(x_train, y_train, epochs=20, callbacks=[callbacks], validation_split=0.2)\n",
    "len(history.history['val_loss'][1:])"
   ]
  },
  {
   "cell_type": "code",
   "execution_count": 95,
   "id": "711eb12c",
   "metadata": {},
   "outputs": [
    {
     "data": {
      "image/png": "[encoded data removed]",
      "text/plain": [
       "<Figure size 640x480 with 1 Axes>"
      ]
     },
     "metadata": {},
     "output_type": "display_data"
    }
   ],
   "source": [
    "plt.plot(history.history['loss'][1:],color='red', label='loss')\n",
    "plt.plot(history.history[\"val_loss\"][1:], color='blue', label='val_loss')\n",
    "plt.xlabel('iteration')\n",
    "\n",
    "plt.show()"
   ]
  },
  {
   "cell_type": "code",
   "execution_count": null,
   "id": "fe788917",
   "metadata": {},
   "outputs": [],
   "source": []
  }
 ],
 "metadata": {
  "kernelspec": {
   "display_name": "Python 3 (ipykernel)",
   "language": "python",
   "name": "python3"
  },
  "language_info": {
   "codemirror_mode": {
    "name": "ipython",
    "version": 3
   },
   "file_extension": ".py",
   "mimetype": "text/x-python",
   "name": "python",
   "nbconvert_exporter": "python",
   "pygments_lexer": "ipython3",
   "version": "3.9.13"
  }
 },
 "nbformat": 4,
 "nbformat_minor": 5
}
