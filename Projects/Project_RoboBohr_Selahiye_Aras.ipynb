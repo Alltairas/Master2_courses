{
 "cells": [
  {
   "cell_type": "markdown",
   "id": "d8aad63a-9341-466b-bf1d-b3cb74dbfd82",
   "metadata": {},
   "source": [
    "# Project Robo_Bohr by Selahiye Aras"
   ]
  },
  {
   "cell_type": "markdown",
   "id": "5b25212f-2de9-49cb-bbe1-7fc65cf27983",
   "metadata": {},
   "source": [
    "**Assignment**: You   will   develop   a   code   to   predict   atomization   energies   of   molecules.   The   dataset(roboBohr.csv),  contains ground  state energies of 16,242 molecules calculated  by quantummechanical simulations.The data contains 1277 columns. The first 1275 columns are entries in the Coulomb matrixthat act as molecular features. The 1276th column is the  Pubchem  Id where the molecularstructures   are   obtained.   The   1277th   column   is   the   atomization   energy   calculated   bysimulations   using   the  Quantum  Espresso  package.   The   data   is   used   for   a  publication  inJournal of Chemical Physics.You must analyze the data (histogram, variance, NaN values, non significative variables, ...).After   that   you   will   search   the  best   model   to   predict   Atomization   energies   using   Coulummatrix.You can use any (one or several) tools of scikit-learn : Regression, Scaling, normalization,train_test_split,  GridSearchCV, ... However,  you cannot use any other ML libraries(as Tensorflow, XGBoost,..)."
   ]
  },
  {
   "cell_type": "markdown",
   "id": "70ae9db1",
   "metadata": {},
   "source": [
    "**Planning**\n",
    "Let's break down the steps of what we want to achieve by the code using the instructions of the assignement:\n",
    "\n",
    "### Part A. Analyze the data: \n",
    "* histogram \n",
    "* variance \n",
    "* standard deviation\n",
    "* NaN values\n",
    "* non significative variables \n",
    "\n",
    "\n",
    "### Part B. Modelisation\n",
    "#### I)Dimension Reduction \n",
    "* Choosing an Unsupervised Lerning method for reducing the dimension of the features\n",
    "\n",
    "#### II)Regression Models\n",
    "We search for the best model to predict the Atomization energies after reducting the dimension.\n",
    "In order to do so we will compare several models:\n",
    "* Linear regression\n",
    "* Polynomial Regression\n",
    "* Ridge Regression\n",
    "* Lasso Regression\n",
    "* SVR (Support vector Regression)\n",
    "* Trees Regression\n",
    "* k-Nearest Neighbors\n",
    "* Random Forest Regression\n",
    "\n",
    "#### III) Visualizing and Comparing the Results\n",
    "* Comparing the Regression metrics\n",
    "* Visual distinction between the KDE plots\n",
    "* KL divergence\n",
    "\n",
    "#### IV) Ensemble Learning\n",
    "* GradientBoostingRegressor\n",
    "* Stacking\n",
    "* Voting\n",
    "* Second-level ensemble"
   ]
  },
  {
   "cell_type": "markdown",
   "id": "f748a70e",
   "metadata": {},
   "source": [
    "# Beginning of the code"
   ]
  },
  {
   "cell_type": "markdown",
   "id": "048c5ae6",
   "metadata": {},
   "source": [
    "Let's start by importing the libraries that we are likely to use in a seperate cell before diving into the code itself. Note that most of the libraries are imported along the writing process, and some are not used since some none-functionning code cells are deleted for presentation purposes."
   ]
  },
  {
   "cell_type": "code",
   "execution_count": 1,
   "id": "c6679ce8",
   "metadata": {
    "tags": []
   },
   "outputs": [],
   "source": [
    "import matplotlib.pyplot as plt\n",
    "import numpy as np\n",
    "import pandas as pd\n",
    "import seaborn as sns\n",
    "import warnings\n",
    "warnings.filterwarnings('ignore')\n",
    "import time\n",
    "\n",
    "from sklearn.preprocessing import StandardScaler\n",
    "from sklearn.manifold import TSNE\n",
    "from sklearn.decomposition import PCA\n",
    "from sklearn.pipeline import Pipeline\n",
    "from sklearn.neighbors import KNeighborsRegressor\n",
    "from sklearn.svm import SVR\n",
    "from sklearn.linear_model import LinearRegression, LogisticRegression\n",
    "from sklearn.model_selection import learning_curve\n",
    "from sklearn.tree import DecisionTreeRegressor\n",
    "from sklearn.ensemble import RandomForestRegressor\n",
    "from sklearn.metrics import r2_score, mean_squared_error\n",
    "from sklearn.model_selection import train_test_split, GridSearchCV, RandomizedSearchCV\n",
    "from scipy.stats import uniform, randint\n",
    "from sklearn.pipeline import make_pipeline\n",
    "from sklearn.preprocessing import PolynomialFeatures"
   ]
  },
  {
   "cell_type": "markdown",
   "id": "4a685b76",
   "metadata": {},
   "source": [
    "## Part A) Analyze the Data"
   ]
  },
  {
   "cell_type": "markdown",
   "id": "24f6d313",
   "metadata": {},
   "source": [
    "We can start by importing the data set that we will be working with from the professor's repository and put it into a dataframe directly called df_robo, containing very element of the default file. Additionnaly let's drop the Unnamed: 0, pubchem_id and Eat columns and put the remaining columns as features into a dataframe called X. They are the values that we are going to work with. We can put the Eat column into a df named Y, the output of the computation of Quantum Espresso package. "
   ]
  },
  {
   "cell_type": "code",
   "execution_count": 2,
   "id": "1feeb2b2",
   "metadata": {},
   "outputs": [],
   "source": [
    "# Reading the data as DF, defining the X's and Y\n",
    "df_robo = pd.DataFrame(pd.read_csv(\"roboBohr.csv\"))\n",
    "\n",
    "Y = df_robo.loc[:, 'Eat'] #atomization energies\n",
    "X = df_robo.drop(['Unnamed: 0','pubchem_id','Eat'], axis=1) # entries as features that act as molecular features"
   ]
  },
  {
   "cell_type": "markdown",
   "id": "01f4883b",
   "metadata": {},
   "source": [
    "Let us see what the statistical information of X and Y are with the describe() method."
   ]
  },
  {
   "cell_type": "code",
   "execution_count": 3,
   "id": "cd16a165",
   "metadata": {},
   "outputs": [
    {
     "name": "stdout",
     "output_type": "stream",
     "text": [
      "                  0             1             2             3             4  \\\n",
      "count  16242.000000  16242.000000  16242.000000  16242.000000  16242.000000   \n",
      "mean     115.715266     22.445723     20.474191     18.529573     17.169350   \n",
      "std      113.198503      8.659586      7.670481      6.485777      5.512560   \n",
      "min       36.858105      2.906146      0.000000      0.000000      0.000000   \n",
      "25%       73.516695     17.969345     16.228071     15.165862     13.744092   \n",
      "50%       73.516695     20.662511     18.631287     17.690729     16.020040   \n",
      "75%       73.516695     21.132432     20.739496     18.712895     18.297501   \n",
      "max      388.023441     73.563510     66.269180     66.268891     66.268756   \n",
      "\n",
      "                  5             6             7             8             9  \\\n",
      "count  16242.000000  16242.000000  16242.000000  16242.000000  16242.000000   \n",
      "mean      15.816888     15.133152     14.471534     13.960759     13.464842   \n",
      "std        4.179691      3.885091      3.503075      3.357136      3.140732   \n",
      "min        0.000000      0.000000      0.000000      0.000000      0.000000   \n",
      "25%       13.653146     13.637784     12.759519     12.587359     12.489127   \n",
      "50%       15.156646     13.848274     13.659233     13.652832     13.648992   \n",
      "75%       17.639688     16.154918     15.499474     14.900585     13.801184   \n",
      "max       66.268196     66.264158     66.258487     66.258177     60.365756   \n",
      "\n",
      "       ...          1265          1266          1267          1268  \\\n",
      "count  ...  16242.000000  16242.000000  16242.000000  16242.000000   \n",
      "mean   ...      0.006003      0.000135      0.000134      0.000133   \n",
      "std    ...      0.054458      0.002748      0.002728      0.002705   \n",
      "min    ...      0.000000      0.000000      0.000000      0.000000   \n",
      "25%    ...      0.000000      0.000000      0.000000      0.000000   \n",
      "50%    ...      0.000000      0.000000      0.000000      0.000000   \n",
      "75%    ...      0.000000      0.000000      0.000000      0.000000   \n",
      "max    ...      0.500000      0.062496      0.062225      0.061999   \n",
      "\n",
      "               1269          1270          1271          1272          1273  \\\n",
      "count  16242.000000  16242.000000  16242.000000  16242.000000  16242.000000   \n",
      "mean       0.003879      0.000131      0.000129      0.002155      0.000127   \n",
      "std        0.043869      0.002676      0.002633      0.032755      0.002594   \n",
      "min        0.000000      0.000000      0.000000      0.000000      0.000000   \n",
      "25%        0.000000      0.000000      0.000000      0.000000      0.000000   \n",
      "50%        0.000000      0.000000      0.000000      0.000000      0.000000   \n",
      "75%        0.000000      0.000000      0.000000      0.000000      0.000000   \n",
      "max        0.500000      0.061534      0.059760      0.500000      0.057834   \n",
      "\n",
      "               1274  \n",
      "count  16242.000000  \n",
      "mean       0.001201  \n",
      "std        0.024472  \n",
      "min        0.000000  \n",
      "25%        0.000000  \n",
      "50%        0.000000  \n",
      "75%        0.000000  \n",
      "max        0.500000  \n",
      "\n",
      "[8 rows x 1275 columns] \n",
      "\n",
      "count    16242.000000\n",
      "mean       -11.178969\n",
      "std          3.659133\n",
      "min        -23.245373\n",
      "25%        -13.475805\n",
      "50%        -10.835211\n",
      "75%         -8.623903\n",
      "max         -0.789513\n",
      "Name: Eat, dtype: float64\n"
     ]
    }
   ],
   "source": [
    "# Print the statistics of X and Y\n",
    "print(X.describe(),'\\n')\n",
    "print(Y.describe())"
   ]
  },
  {
   "cell_type": "markdown",
   "id": "1b65838e",
   "metadata": {},
   "source": [
    "**Remark on the print-out:** We can read for X that for each of the 1274 columns we have 16242 rows with different average, standard deviation, minima, maxima, the first quartile(the value below which 25% of the data are located), median and third quartile(the value below which 75% of the data are located).\n",
    "We can also read for the Y dataframe the same information, only since we have just one column with a string label, the name and dtype is shown. All the datatypes are float64."
   ]
  },
  {
   "cell_type": "markdown",
   "id": "7c8fd6fc",
   "metadata": {},
   "source": [
    "### Let's plot the histogram of the atomization Energies and its variance:"
   ]
  },
  {
   "cell_type": "markdown",
   "id": "414b2085",
   "metadata": {},
   "source": [
    "We want to plot the distribution of Atomization energies. Since we want to count the number of appereance of Y data, we only need the Y dataframe as input to the plot. We can achieve this by using plt.hist() method, where after several try we have concluded on setting bins=50 for adequate visualization. "
   ]
  },
  {
   "cell_type": "code",
   "execution_count": 4,
   "id": "4182d115",
   "metadata": {},
   "outputs": [
    {
     "data": {
      "image/png": "[encoded data removed]",
      "text/plain": [
       "<Figure size 640x480 with 1 Axes>"
      ]
     },
     "metadata": {},
     "output_type": "display_data"
    }
   ],
   "source": [
    "# Plot the Histogram of Atomization Anergies\n",
    "plt.hist(Y, bins=50, edgecolor='black')\n",
    "plt.title('Distribution of Atomization Energies')\n",
    "plt.xlabel('Atomization Energy (eV)')\n",
    "plt.ylabel('Number of Appearences')\n",
    "plt.show()"
   ]
  },
  {
   "cell_type": "markdown",
   "id": "8b710423",
   "metadata": {},
   "source": [
    "**Remark on the print-out:** We observe a Bell-like ditribution for the Atomization Energies. Visualy, we see that Y dataframe's values belong to the I interval s.t. I=[-30, 0]. The describe() has given us I as I=[-23.245373, -0.789513] and the mean as A=-11.178969. Looking at the histogram A could be estimated as 10. "
   ]
  },
  {
   "cell_type": "markdown",
   "id": "5eb9663f",
   "metadata": {},
   "source": [
    "Further on, we may ask if the distribution is a Normal distribution. We can apply the Shapiro-Wilk Test to see if that is the case."
   ]
  },
  {
   "cell_type": "code",
   "execution_count": 5,
   "id": "92bfe03d",
   "metadata": {},
   "outputs": [
    {
     "name": "stdout",
     "output_type": "stream",
     "text": [
      "p value= 3.163676418913958e-32\n"
     ]
    }
   ],
   "source": [
    "from scipy.stats import shapiro\n",
    "stat, p_value = shapiro(Y)\n",
    "print('p value=',p_value)"
   ]
  },
  {
   "cell_type": "markdown",
   "id": "7c6b5fa1",
   "metadata": {},
   "source": [
    "Here we get an extremely small p_value, which suggests that the observed Y distribution is significantly different from a normal distribution."
   ]
  },
  {
   "cell_type": "markdown",
   "id": "a9f54757",
   "metadata": {},
   "source": [
    "### More statistical analysis"
   ]
  },
  {
   "cell_type": "markdown",
   "id": "0b10cff1",
   "metadata": {},
   "source": [
    "#### Variance "
   ]
  },
  {
   "cell_type": "code",
   "execution_count": 6,
   "id": "4f347032",
   "metadata": {},
   "outputs": [
    {
     "name": "stdout",
     "output_type": "stream",
     "text": [
      "Variance of Atomization Energies: 13.389252732084762\n"
     ]
    }
   ],
   "source": [
    "# Print variance of Y\n",
    "Y_variance = Y.var()\n",
    "print(\"Variance of Atomization Energies:\", Y_variance)"
   ]
  },
  {
   "cell_type": "markdown",
   "id": "7b64d4d2",
   "metadata": {},
   "source": [
    "#### Standard deviation"
   ]
  },
  {
   "cell_type": "code",
   "execution_count": 7,
   "id": "a5e96f0d",
   "metadata": {},
   "outputs": [
    {
     "name": "stdout",
     "output_type": "stream",
     "text": [
      "Standard deviation of Atomization Energies: 3.6591327841559345\n"
     ]
    }
   ],
   "source": [
    "# Print the standard deviation of Y\n",
    "Y_std = Y.std()\n",
    "print(\"Standard deviation of Atomization Energies:\",Y_std)"
   ]
  },
  {
   "cell_type": "code",
   "execution_count": 8,
   "id": "f88c8312",
   "metadata": {},
   "outputs": [
    {
     "name": "stdout",
     "output_type": "stream",
     "text": [
      "Y_standard Deviation is  6.136934985588389 times smaller that the I interval.\n"
     ]
    }
   ],
   "source": [
    "I = 23.245373 - 0.789513\n",
    "print('Y_standard Deviation is ',I/Y_std,'times smaller that the I interval.')"
   ]
  },
  {
   "cell_type": "markdown",
   "id": "f8f03905",
   "metadata": {},
   "source": [
    "**Remark on the print-out:** The Standard Deviation and the Variance tells us if the dispersion of the values accross the distribution. Compared to the extremities of the distribution interval I the Standard Deviation can be considered small and the dispersion a bit narrow. "
   ]
  },
  {
   "cell_type": "markdown",
   "id": "7071ccb8",
   "metadata": {},
   "source": [
    "#### Let's see if the datas contain any **NaN values**:"
   ]
  },
  {
   "cell_type": "markdown",
   "id": "4d4e8d6e",
   "metadata": {},
   "source": [
    "We used X.isna.sum() to count the NaN values on the X dataframe. Since X contain many columns the sum is preformed over the column and the numerical result is given for the column."
   ]
  },
  {
   "cell_type": "code",
   "execution_count": 9,
   "id": "5be3a773",
   "metadata": {},
   "outputs": [
    {
     "name": "stdout",
     "output_type": "stream",
     "text": [
      "NaN values count per column of features:\n",
      " 0       0\n",
      "1       0\n",
      "2       0\n",
      "3       0\n",
      "4       0\n",
      "       ..\n",
      "1270    0\n",
      "1271    0\n",
      "1272    0\n",
      "1273    0\n",
      "1274    0\n",
      "Length: 1275, dtype: int64\n"
     ]
    }
   ],
   "source": [
    "# Check for NaNs and count them over their respective columns for features\n",
    "nan_count_per_col_X = X.isna().sum(axis = 0)\n",
    "print(\"NaN values count per column of features:\\n\", nan_count_per_col_X)"
   ]
  },
  {
   "cell_type": "markdown",
   "id": "b67fda72",
   "metadata": {},
   "source": [
    "**Remark on the print-out:** We may ask if there are non-zero values in the previous print-out and that we missed some NaNs. \n",
    "\n",
    "**Developpement:** To do a torought check, we can define a boolean variable to store the False state if any NaNs are found by applying the .isna.any() method to X. We don't need that developpement for the Y dataframe since it's only one column. \n",
    "We have developped another method before using .any(), which uses an increment and prints out the index of the NaN value if it existed, but finding no NaNs we simplified the method into the boolean one."
   ]
  },
  {
   "cell_type": "code",
   "execution_count": 10,
   "id": "34aaa7aa",
   "metadata": {},
   "outputs": [
    {
     "name": "stdout",
     "output_type": "stream",
     "text": [
      "No NaN values in X\n"
     ]
    }
   ],
   "source": [
    "# Check for NaNs\n",
    "nan_count_per_col_X = X.isna().sum()\n",
    "arg = 0\n",
    "for i in range(0,len(nan_count_per_col_X)):\n",
    "    if nan_count_per_col_X[i] != 0:\n",
    "        print(f\"NaN values are found in the {i} column:\\n\")\n",
    "        arg = arg + 1\n",
    "if arg == 0:\n",
    "    print(\"No NaN values in X\")"
   ]
  },
  {
   "cell_type": "code",
   "execution_count": 11,
   "id": "d6f0c546",
   "metadata": {},
   "outputs": [
    {
     "name": "stdout",
     "output_type": "stream",
     "text": [
      "No NaN values in the entire feature DataFrame.\n"
     ]
    }
   ],
   "source": [
    "nan_bool_X = X.isna().any()\n",
    "\n",
    "if nan_bool_X.any():\n",
    "    print('There is a NaN value somewhere in the DataFrame.')\n",
    "else:\n",
    "    print('No NaN values in the entire feature DataFrame.')"
   ]
  },
  {
   "cell_type": "code",
   "execution_count": 12,
   "id": "071af5ab",
   "metadata": {},
   "outputs": [
    {
     "name": "stdout",
     "output_type": "stream",
     "text": [
      "NaN values count for the ouput dataframe: 0\n"
     ]
    }
   ],
   "source": [
    "# Check for NaNs\n",
    "nan_count_Y = Y.isna().sum()\n",
    "print(\"NaN values count for the ouput dataframe:\", nan_count_Y)"
   ]
  },
  {
   "cell_type": "markdown",
   "id": "5b638b62",
   "metadata": {},
   "source": [
    "**Remark on the print-out:** It seems that there is not NaN values in the X and Y dataframes. "
   ]
  },
  {
   "cell_type": "markdown",
   "id": "38019130",
   "metadata": {},
   "source": [
    "#### Searching the Non significative variables.\n",
    "We have chosen the correlation matrix method for distinguishing non-significative variables. "
   ]
  },
  {
   "cell_type": "code",
   "execution_count": 12,
   "id": "014212b7",
   "metadata": {},
   "outputs": [
    {
     "data": {
      "text/plain": [
       "0       0.100467\n",
       "1       0.104562\n",
       "2       0.064153\n",
       "3       0.025034\n",
       "4      -0.022470\n",
       "          ...   \n",
       "1271   -0.140361\n",
       "1272   -0.183995\n",
       "1273   -0.140366\n",
       "1274   -0.140660\n",
       "Eat     1.000000\n",
       "Name: Eat, Length: 1276, dtype: float64"
      ]
     },
     "execution_count": 12,
     "metadata": {},
     "output_type": "execute_result"
    }
   ],
   "source": [
    "df_corr = df_robo.drop(['Unnamed: 0','pubchem_id'], axis=1)\n",
    "corr_matrix = df_corr.corr()\n",
    "corr_matrix['Eat']"
   ]
  },
  {
   "cell_type": "markdown",
   "id": "85873058",
   "metadata": {},
   "source": [
    "**Remark on the print-out:** Since we want to find out the non-significant values, we can look at the values of corr_matrix[\"Eat\"] with less than the absolute value of 0.2. This indicates a weak correlation."
   ]
  },
  {
   "cell_type": "code",
   "execution_count": 13,
   "id": "0da48052",
   "metadata": {},
   "outputs": [
    {
     "name": "stdout",
     "output_type": "stream",
     "text": [
      "           Eat\n",
      "0     0.100467\n",
      "1     0.104562\n",
      "2     0.064153\n",
      "3     0.025034\n",
      "4    -0.022470\n",
      "...        ...\n",
      "1270 -0.140353\n",
      "1271 -0.140361\n",
      "1272 -0.183995\n",
      "1273 -0.140366\n",
      "1274 -0.140660\n",
      "\n",
      "[111 rows x 1 columns]\n"
     ]
    }
   ],
   "source": [
    "weak_corr = corr_matrix.loc[abs(corr_matrix['Eat']) < 0.2  , ['Eat']]\n",
    "print(weak_corr)"
   ]
  },
  {
   "cell_type": "markdown",
   "id": "bd3090cd",
   "metadata": {},
   "source": [
    "**Remark on the print-out:** Hence, we have found that 111 columns are weakly correlated to the Eat Colomn of the df_robo, with their indexes. A filtering out of those columns can be made if desired."
   ]
  },
  {
   "cell_type": "markdown",
   "id": "cc0a3992",
   "metadata": {},
   "source": [
    "# Part B "
   ]
  },
  {
   "cell_type": "markdown",
   "id": "a0d7b44b",
   "metadata": {},
   "source": [
    "We have two dimension reduction algorithm that we may use before attempting any regression. Those are PCA and T-SNE. We have chosen to work with PCA before fitting the dataframe with regression models, because the T-SNE may reduce to much the feature dataframe and result in an underfitting and worst overall scores.  "
   ]
  },
  {
   "cell_type": "markdown",
   "id": "9fa8a8aa",
   "metadata": {},
   "source": [
    "## I) Reduction of Dimension "
   ]
  },
  {
   "cell_type": "markdown",
   "id": "a17b40e9",
   "metadata": {},
   "source": [
    "First we need to normalize the features."
   ]
  },
  {
   "cell_type": "code",
   "execution_count": 5,
   "id": "e6622c75",
   "metadata": {},
   "outputs": [],
   "source": [
    "# Normalize features \n",
    "scaler = StandardScaler()\n",
    "X_normed = scaler.fit_transform(X)"
   ]
  },
  {
   "cell_type": "markdown",
   "id": "9be98216",
   "metadata": {},
   "source": [
    "We need to find an adequate n_component for the Principle Component Analysis(PCA) method. Hence we choose to stop the search when a PCA with variance greater or equal to 0.95 is found and process further with that integer value. "
   ]
  },
  {
   "cell_type": "code",
   "execution_count": 6,
   "id": "37f4efe4",
   "metadata": {},
   "outputs": [
    {
     "name": "stdout",
     "output_type": "stream",
     "text": [
      "Elapsed_time for n_component=9: 1.1967990398406982 seconds\n",
      "Explained Variance=  0.9517550690804247\n"
     ]
    }
   ],
   "source": [
    "from sklearn.pipeline import Pipeline\n",
    "\n",
    "variance_pca = 0.0\n",
    "elapsed_time = 0.0\n",
    "\n",
    "while (variance_pca < 0.95):\n",
    "    for i in range(2, 16):\n",
    "        # Create a PCA object\n",
    "        pca = PCA(n_components=i, random_state=100)\n",
    "\n",
    "        #  Pipeline with StandardScaler and PCA\n",
    "        pipeline = Pipeline([('scaler', scaler), ('pca', pca)])\n",
    "\n",
    "        # Record the starting time\n",
    "        start_time = time.time()\n",
    "\n",
    "        # Fit the pipeline to the normed data\n",
    "        X_pca = pipeline.fit_transform(X_normed)\n",
    "\n",
    "        # Record the end time\n",
    "        end_time = time.time()\n",
    "\n",
    "        # Compute the duration\n",
    "        elapsed_time = end_time - start_time\n",
    "\n",
    "        # Compute Variance\n",
    "        variance_pca = pca.explained_variance_ratio_.sum()\n",
    "\n",
    "        if variance_pca >= 0.95:\n",
    "            break  # exit the loop if variance >= to 95\n",
    "\n",
    "    print(f'Elapsed_time for n_component={i}: {elapsed_time} seconds')\n",
    "    print('Explained Variance= ', variance_pca)"
   ]
  },
  {
   "cell_type": "markdown",
   "id": "092b99af",
   "metadata": {},
   "source": [
    "We find that n_component=9 is suficient. In the regression models following we utilize X_pca as a primary feature dataframe containing less dimesion that the un-preprocessed X dataframe however capturing the the maximum variance in the X data. This will help us gain time and resources during the computation. "
   ]
  },
  {
   "cell_type": "markdown",
   "id": "83f1787a",
   "metadata": {},
   "source": [
    "## II) Searching the best Regression model"
   ]
  },
  {
   "cell_type": "markdown",
   "id": "90e7d7c0",
   "metadata": {},
   "source": [
    "We Proceed on splitting the data into a training and testing sets, choosing the test_size as 30% of the total features, and random_state=42 for reproductibility of the splitting. We will do this once and use the same X_train, X_test, Y_train, Y_test variables throughout the project for better comparison between models. It is also important to note that we have used X_pca instead of X, so that the work done on I) is due it's worth."
   ]
  },
  {
   "cell_type": "code",
   "execution_count": 7,
   "id": "bacfa762",
   "metadata": {},
   "outputs": [],
   "source": [
    "# Split data into training and testing sets\n",
    "X_train, X_test, Y_train, Y_test = train_test_split(X_pca, Y, test_size=0.3, random_state=42)"
   ]
  },
  {
   "cell_type": "markdown",
   "id": "c5824aee",
   "metadata": {},
   "source": [
    "Let's train a linear regression model to see the general proccess of fitting. We define the model and apply .fit() to train the model."
   ]
  },
  {
   "cell_type": "code",
   "execution_count": 8,
   "id": "8aac86a9",
   "metadata": {},
   "outputs": [
    {
     "data": {
      "text/plain": [
       "LinearRegression()"
      ]
     },
     "execution_count": 8,
     "metadata": {},
     "output_type": "execute_result"
    }
   ],
   "source": [
    "# Train a linear regression model\n",
    "model_Linear = LinearRegression()\n",
    "model_Linear.fit(X_train, Y_train)"
   ]
  },
  {
   "cell_type": "markdown",
   "id": "02a24b7c",
   "metadata": {},
   "source": [
    "We make the prediction using the trained set model_Linear by applying .predict(X_test)."
   ]
  },
  {
   "cell_type": "code",
   "execution_count": 9,
   "id": "b44e44b0",
   "metadata": {},
   "outputs": [],
   "source": [
    "# Make predictions on the test set\n",
    "Y_pred_lin = model_Linear.predict(X_test)"
   ]
  },
  {
   "cell_type": "markdown",
   "id": "43505d03",
   "metadata": {},
   "source": [
    "Now we may evaluate our model by printing-out the Mean Squared Error (MSE) and the R^2 score. These two compares the Y_test to Y_pred_modelName. "
   ]
  },
  {
   "cell_type": "code",
   "execution_count": 10,
   "id": "5250fc7b",
   "metadata": {},
   "outputs": [
    {
     "name": "stdout",
     "output_type": "stream",
     "text": [
      "Linear Regression MSE: 2.0919278747543446\n",
      "R2:  0.8424822380370534\n"
     ]
    }
   ],
   "source": [
    "# Evaluate the model\n",
    "mse_lin = mean_squared_error(Y_test, Y_pred_lin)\n",
    "r2_lin = r2_score(Y_test,Y_pred_lin)\n",
    "print(\"Linear Regression MSE:\", mse_lin)\n",
    "print(\"R2: \", r2_lin)"
   ]
  },
  {
   "cell_type": "markdown",
   "id": "ecb70b6f-8652-4804-8fb8-033139c98542",
   "metadata": {},
   "source": [
    "Looking at the MSE and R2, we can clearly see from our first iteration of the program that the Linear Regression model fit is already a good approximation after the PCA with n_components=9.\n",
    "\n",
    "We can continu by fitting with different models and compare their R^2, MSE and time of computation. Let's list the fitting models that we will apply:\n",
    "\n",
    "* **a)Linear Regression**\n",
    "* **b)SVR**\n",
    "* **c)Polynomial Regression**\n",
    "* **d)Decision Tree Regression**\n",
    "* **e)Random Forest Regression**\n",
    "* **f)Ridge Regression**\n",
    "* **g)Lasso Regression** \n",
    "* **h)k-Nearest Neighbors**."
   ]
  },
  {
   "cell_type": "markdown",
   "id": "5cf60c73",
   "metadata": {},
   "source": [
    "#### Hyperparameter Tunning, Computation Time and Scoring\n",
    "\n",
    "For the previous list of Regression Models, in the following, we are using GridSearchCV() or RandomizedSearchCV() in order to find the best set of hyperparameters defined in the Name_model_param_grid. Depending on the model those parameters grid varry. We use the .best_params_ to find the best hyperparameters after the cross-validation. \n",
    "\n",
    "Note that for polynomial Rgression best_estimators_ was used instead of best_params_\n",
    "\n",
    "Cross_Validation is set to 5 and RandomizedSearchCV with cv=2 is only used when the computation time exceeds 10 minutes. For most of the models GridSearchCV() is used, however for SVR in the cases we obtained a response, cv was low and even then we needed to use RandomizedSearch. We should keep in mind that the comparison between other models and SVR may be biased due to that choice if we want to compare SVR at all.\n",
    "\n",
    "The computation time is calculated by creating a two independent variables start_time and end_time recording the time before and after the fitting. The elapsed_time is simply their difference and indicates the duration of the process. We chose to exclude the Hyperparameter tunning phase from the computation time and only concentrate on the fitting.\n",
    "\n",
    "As a last parameter when performing the hyperparameter search we explicitely set the scoring as negative mean squared error. By negating the mean squared error, the grid search will effectively search for models that minimize the MSE."
   ]
  },
  {
   "cell_type": "markdown",
   "id": "3659bd78",
   "metadata": {},
   "source": [
    "We have written in the following the models in the same structure as the Linear Regression with the difference of Hyperparameter grid, Cross-validation tunning and computation time variables. Since we don't need to repeate the same explanation over and over, we have abstained from this repetition."
   ]
  },
  {
   "cell_type": "markdown",
   "id": "3c3c262e",
   "metadata": {},
   "source": [
    "### a)Linear Regression"
   ]
  },
  {
   "cell_type": "code",
   "execution_count": 17,
   "id": "7d1e0451",
   "metadata": {},
   "outputs": [
    {
     "name": "stdout",
     "output_type": "stream",
     "text": [
      "Linear Regression:\n",
      "Elapsed_time:  0.05138802528381348\n",
      "Best parameters: {'normalize': True}\n",
      "Mean squared error: 2.0919278747543446\n",
      "R^2: 0.8424822380370534\n"
     ]
    }
   ],
   "source": [
    "# Linear Regression\n",
    "linear_model = LinearRegression()\n",
    "linear_param_grid = {'normalize': [True, False]}\n",
    "\n",
    "# Create a GridSearchCV object\n",
    "linear_grid_search = GridSearchCV(linear_model, linear_param_grid, cv=5, scoring='neg_mean_squared_error')\n",
    "\n",
    "# Record the strat time\n",
    "start_time = time.time()\n",
    "\n",
    "#Fit\n",
    "linear_model_fit = linear_grid_search.fit(X_train, Y_train)\n",
    "\n",
    "# Mark the end time\n",
    "end_time=time.time()\n",
    "\n",
    "# Compute the duration\n",
    "elapsed_time = end_time - start_time\n",
    "\n",
    "# Make predictions on the test set\n",
    "Y_pred_Lin = model_Linear.predict(X_test)\n",
    "\n",
    "# Compute MSE and R^2\n",
    "mse_Lin = mean_squared_error(Y_test, Y_pred_Lin)\n",
    "r2_lin = r2_score(Y_test,Y_pred_Lin)\n",
    "\n",
    "# Print-out\n",
    "print(\"Linear Regression:\")\n",
    "print('Elapsed_time: ', elapsed_time)\n",
    "print(f\"Best parameters: {linear_grid_search.best_params_}\")\n",
    "print(f\"Mean squared error: {mse_Lin}\")\n",
    "print(\"R^2:\",r2_lin)"
   ]
  },
  {
   "cell_type": "markdown",
   "id": "b8cafba9",
   "metadata": {},
   "source": [
    "**Remark on the print-out:** Linear Regression don't have much parameters, however setting the normalize parameter to true seems to give us better results. So a 2nd Normalization is done on the X_pca, which were already normalized. The time it took for the model to fit is the best. On the other hand the MSE is not bellow 1 and R^2 is bellow 0.9."
   ]
  },
  {
   "cell_type": "markdown",
   "id": "fc997200",
   "metadata": {},
   "source": [
    "### b)SVR"
   ]
  },
  {
   "cell_type": "code",
   "execution_count": 18,
   "id": "2415e3c7",
   "metadata": {},
   "outputs": [
    {
     "name": "stdout",
     "output_type": "stream",
     "text": [
      "SVR:\n",
      "Elapsed_time:  98.78229331970215\n",
      "Best Parameters: {'kernel': 'rbf', 'epsilon': 0.060000000000000005, 'C': 24.899999999999963}\n",
      "R^2: 0.9904439059309275\n",
      "Mean Squared Error on Test Set: 0.12691051033070075\n"
     ]
    }
   ],
   "source": [
    "# Define the parameter grid to search\n",
    "svr_param_grid = {\n",
    "    'C': np.arange(15.1, 30.1, 0.1), \n",
    "    'epsilon':  np.arange(0.01, 0.2,0.01), \n",
    "    'kernel': ['rbf']} \n",
    "\n",
    "# Create a Support Vector Regression (SVR) model\n",
    "svr_model = SVR()\n",
    "\n",
    "# Create a RandomizedSearchCV object\n",
    "svr_grid_search = RandomizedSearchCV(svr_model, svr_param_grid, cv=2,scoring='neg_mean_squared_error')\n",
    "\n",
    "# Record the strat time\n",
    "start_time = time.time()\n",
    "\n",
    "# Fit the model to the training data\n",
    "svr_grid_search.fit(X_train, Y_train)\n",
    "\n",
    "# Mark the end time\n",
    "end_time=time.time()\n",
    "\n",
    "# Compute the duration\n",
    "elapsed_time = end_time - start_time\n",
    "\n",
    "# Access the best parameters and the corresponding best score\n",
    "svr_best_params = svr_grid_search.best_params_\n",
    "\n",
    "# Make predictions on the test set using the best model\n",
    "Y_pred_svr = svr_grid_search.predict(X_test)\n",
    "\n",
    "# Evaluate the performance of the model on the test set\n",
    "mse_svr = mean_squared_error(Y_test, Y_pred_svr)\n",
    "r2_svr = r2_score(Y_test,Y_pred_svr)\n",
    "\n",
    "print(\"SVR:\")\n",
    "print('Elapsed_time: ', elapsed_time)\n",
    "print(\"Best Parameters:\", svr_best_params)\n",
    "print(\"R^2:\",r2_svr)\n",
    "print(\"Mean Squared Error on Test Set:\", mse_svr)"
   ]
  },
  {
   "cell_type": "markdown",
   "id": "17da1ee0",
   "metadata": {},
   "source": [
    "**Remark on the print-out:** We have set the kernel as 'rbf' manually, since the 'linear' has a computation time exceeding 10 minutes. The choice of the radial basis function (RBF) kernel, also known as the Gaussian kernel captures complex, non-linear relationships in the data. \n",
    "\n",
    "C: the cost parameter controls the trade-off between having a smooth decision boundary and classifying the training points correctly. A smaller C allows for a smoother decision boundary, while a larger C aims to classify all training points correctly. For the given uniform interval exceeding 20, we have 32.687. For a different interval tested we obtained a different C, here the interval is choosen somewhat arbittrary since it had minimal effect on the MSE and R^2.\n",
    "\n",
    "epsilon: is a parameter that defines the margin of tolerance for classification errors. A smaller value of epsilon results in a model more sensitive to errors. "
   ]
  },
  {
   "cell_type": "markdown",
   "id": "3f8b69bc",
   "metadata": {},
   "source": [
    "### c)Polynomial Regression"
   ]
  },
  {
   "cell_type": "code",
   "execution_count": 19,
   "id": "475251d5",
   "metadata": {},
   "outputs": [
    {
     "name": "stdout",
     "output_type": "stream",
     "text": [
      "Polynomial Regression:\n",
      "elapsed_time: 18.38802433013916\n",
      "Best Parameters: {'polynomialfeatures__degree': 2}\n",
      "Mean squared error for 2 degree polynomial fit: 2.4504822405337703\n",
      "R^2 score: 0.8154838496503356\n"
     ]
    }
   ],
   "source": [
    "# Define the parameter grid for PolynomialFeatures degree\n",
    "poly_param_grid = {'polynomialfeatures__degree': [2, 3, 4, 5]}  \n",
    "\n",
    "# Create a pipeline with PolynomialFeatures and LinearRegression\n",
    "poly_reg = make_pipeline(PolynomialFeatures(), LinearRegression())\n",
    "\n",
    "# Create GridSearchCV instance\n",
    "poly_grid_search = GridSearchCV(poly_reg, poly_param_grid, cv=5, scoring='neg_mean_squared_error')\n",
    "\n",
    "# Mark the start time\n",
    "start_time = time.time()\n",
    "\n",
    "# Fit the model with the best parameters\n",
    "poly_grid_search.fit(X_train, Y_train)\n",
    "\n",
    "# Mark the end time\n",
    "end_time = time.time()\n",
    "\n",
    "# Compute the duration\n",
    "elapsed_time = end_time - start_time\n",
    "\n",
    "# Get the best model\n",
    "best_poly_model = poly_grid_search.best_estimator_\n",
    "\n",
    "# Make predictions on the test set\n",
    "Y_pred_poly = best_poly_model.predict(X_test)\n",
    "\n",
    "# Metrics\n",
    "mse_poly = mean_squared_error(Y_test, Y_pred_poly)\n",
    "r2_poly = r2_score(Y_test, Y_pred_poly)\n",
    "\n",
    "print(\"Polynomial Regression:\")\n",
    "print(\"elapsed_time:\", elapsed_time)\n",
    "print(\"Best Parameters:\", poly_grid_search.best_params_)\n",
    "print(f\"Mean squared error for {poly_grid_search.best_params_['polynomialfeatures__degree']} degree polynomial fit: {mse_poly}\")\n",
    "print(\"R^2 score:\", r2_poly)"
   ]
  },
  {
   "cell_type": "markdown",
   "id": "15758b94",
   "metadata": {},
   "source": [
    "**Remark on the print-out**: Here we have defined the grid of parameters of polynomial Regression with degrees from 2 to 5. In a previous test, which yielded the results of bigger degrees than 2, the MSE were gradually increasing, so the choice of 2 as the best parameter seems right here. The interserting thing to note is that this method performs worse than Linear Regression, in both R^2 and MSE. "
   ]
  },
  {
   "cell_type": "markdown",
   "id": "b827adef",
   "metadata": {},
   "source": [
    "### d)Decision Tree Regression"
   ]
  },
  {
   "cell_type": "code",
   "execution_count": 20,
   "id": "b4bdbc4e",
   "metadata": {},
   "outputs": [
    {
     "name": "stdout",
     "output_type": "stream",
     "text": [
      "Decision Tree Regressor:\n",
      "Elapsed_time:  0.8396196365356445\n",
      "Best parameters: {'max_depth': 10}\n",
      "R^2 0.9900900555286256\n",
      "Mean squared error of the test set:  0.13160985033429098\n"
     ]
    }
   ],
   "source": [
    "# Decision Tree Regressor\n",
    "dt_model = DecisionTreeRegressor()\n",
    "dt_param_grid = {'max_depth': [1, 10, 20]}\n",
    "\n",
    "# Create a GridSearchCV object\n",
    "dt_grid_search = GridSearchCV(dt_model, dt_param_grid, cv=5, scoring='neg_mean_squared_error')\n",
    "\n",
    "# Record the strat time\n",
    "start_time = time.time()\n",
    "\n",
    "dt_best_model = dt_grid_search.fit(X_train, Y_train)\n",
    "\n",
    "# Mark the end time\n",
    "end_time=time.time()\n",
    "\n",
    "# Compute the duration\n",
    "elapsed_time = end_time - start_time\n",
    "\n",
    "# Make predictions on the test set\n",
    "Y_pred_dt = dt_best_model.predict(X_test)\n",
    "\n",
    "# Evaluate the performance of the model on the test set\n",
    "mse_dt = mean_squared_error(Y_test, Y_pred_dt)\n",
    "\n",
    "#R^2 score of DTR\n",
    "r2_dt = r2_score(Y_test,Y_pred_dt)\n",
    "\n",
    "print(\"Decision Tree Regressor:\")\n",
    "print('Elapsed_time: ', elapsed_time)\n",
    "print(f\"Best parameters: {dt_grid_search.best_params_}\")\n",
    "print(\"R^2\",r2_dt)\n",
    "print('Mean squared error of the test set: ',mse_dt)"
   ]
  },
  {
   "cell_type": "markdown",
   "id": "c48a9164",
   "metadata": {},
   "source": [
    "**Remark on the print-out:** Decision Tree has stopped on the maximum depth of 10 branches, with R^2=0.9907 and MSE=0.1258. We may implement prunning and bigger max_depths but for comparability of the results across models we choose to not developp further."
   ]
  },
  {
   "cell_type": "markdown",
   "id": "990d3fcb",
   "metadata": {},
   "source": [
    "### e)Random Forest Regression"
   ]
  },
  {
   "cell_type": "code",
   "execution_count": 21,
   "id": "88f04d6e",
   "metadata": {
    "scrolled": true
   },
   "outputs": [
    {
     "name": "stdout",
     "output_type": "stream",
     "text": [
      "Random Forest Regressor:\n",
      "Elapsed_time:  7.23964262008667\n",
      "Best parameters: {'max_depth': 10, 'n_estimators': 20}\n",
      "R^2 score:  0.9921759857491633\n",
      "Mean squared error on test set: 0.10390747874928948\n"
     ]
    }
   ],
   "source": [
    "# Random Forest Regressor\n",
    "rf_model = RandomForestRegressor()\n",
    "rf_param_grid = {'n_estimators': [10, 20], 'max_depth': [1, 10]}\n",
    "\n",
    "# Create a GridSearchCV object\n",
    "rf_grid_search = GridSearchCV(rf_model, rf_param_grid, cv=5, scoring='neg_mean_squared_error')\n",
    "\n",
    "# Record the start time\n",
    "start_time = time.time()\n",
    "\n",
    "# Fitting\n",
    "rf_best_model = rf_grid_search.fit(X_train, Y_train)\n",
    "\n",
    "# Mark the end time\n",
    "end_time=time.time()\n",
    "\n",
    "# Make predictions on the test set using the best model\n",
    "Y_pred_rf = rf_best_model.predict(X_test)\n",
    "\n",
    "# Evaluate the performance of the model on the test set\n",
    "mse_rf = mean_squared_error(Y_test, Y_pred_rf)\n",
    "#R^2 of RF\n",
    "r2_rf = r2_score(Y_test,Y_pred_rf)\n",
    "\n",
    "# Compute the duration\n",
    "elapsed_time = end_time - start_time\n",
    "\n",
    "print(\"Random Forest Regressor:\")\n",
    "print('Elapsed_time: ', elapsed_time)\n",
    "print(f\"Best parameters: {rf_grid_search.best_params_}\")\n",
    "print(\"R^2 score: \",r2_rf)\n",
    "print(f\"Mean squared error on test set: {mse_rf}\")"
   ]
  },
  {
   "cell_type": "markdown",
   "id": "b4bcea98",
   "metadata": {},
   "source": [
    "**Remark on the print-out:** The Random Forest Regression performs a little better than Decision Tree for MSE and R^2.\n",
    "It finds n_estimators=20."
   ]
  },
  {
   "cell_type": "markdown",
   "id": "39c7ad4e",
   "metadata": {},
   "source": [
    "### f)Ridge Regression"
   ]
  },
  {
   "cell_type": "code",
   "execution_count": 22,
   "id": "349543ac",
   "metadata": {},
   "outputs": [
    {
     "name": "stdout",
     "output_type": "stream",
     "text": [
      "Ridge Regression:\n",
      "Elapsed Time: 0.06891560554504395\n",
      "Best Parameters: {'alpha': 100}\n",
      "R^2: 0.8424770808518899\n",
      "Mean Squared Error on Test Set: 2.0919963651852913\n"
     ]
    }
   ],
   "source": [
    "from sklearn.linear_model import Ridge\n",
    "\n",
    "# Define the parameter grid to search\n",
    "ridge_param_grid = {'alpha': [0.1, 1, 10, 100]}\n",
    "\n",
    "# Create a Ridge Regression model\n",
    "ridge_model = Ridge()\n",
    "\n",
    "\n",
    "# Create a GridSearchCV object\n",
    "ridge_grid_search = GridSearchCV(ridge_model, ridge_param_grid, cv=5, scoring='neg_mean_squared_error')\n",
    "\n",
    "# Record the start time\n",
    "start_time = time.time()\n",
    "\n",
    "# Fit\n",
    "ridge_best_model = ridge_grid_search.fit(X_train, Y_train)\n",
    "\n",
    "# Record the end time\n",
    "end_time = time.time()\n",
    "\n",
    "# Compute the duration\n",
    "elapsed_time = end_time - start_time\n",
    "\n",
    "# Access the best parameters \n",
    "best_params = ridge_grid_search.best_params_\n",
    "\n",
    "# Make predictions on the test set using the best model\n",
    "Y_pred_ridge = ridge_best_model.predict(X_test)\n",
    "\n",
    "# Evaluate the performance of the model on the test set\n",
    "mse_ridge = mean_squared_error(Y_test, Y_pred_ridge)\n",
    "r2_ridge = r2_score(Y_test,Y_pred_ridge)\n",
    "\n",
    "# Print results\n",
    "print(\"Ridge Regression:\")\n",
    "print('Elapsed Time:', elapsed_time)\n",
    "print(f\"Best Parameters: {best_params}\")\n",
    "print(\"R^2:\",r2_ridge)\n",
    "print(f\"Mean Squared Error on Test Set: {mse_ridge}\")"
   ]
  },
  {
   "cell_type": "markdown",
   "id": "0c9285fc",
   "metadata": {},
   "source": [
    "**Remark on the print-out:** Ridge and Lasso Regression, are also implemented, as improved versions of Linear Regression. Their R^2 and MSE are therefore quite similar."
   ]
  },
  {
   "cell_type": "markdown",
   "id": "880fd831",
   "metadata": {},
   "source": [
    "### g)Lasso Regression"
   ]
  },
  {
   "cell_type": "code",
   "execution_count": 25,
   "id": "3e95d08b",
   "metadata": {},
   "outputs": [
    {
     "name": "stdout",
     "output_type": "stream",
     "text": [
      "Lasso Regression:\n",
      "Elapsed Time: 0.06981396675109863\n",
      "Best Parameters: {'alpha': 0.01}\n",
      "R^2: 0.8424498065228899\n",
      "Mean Squared Error on Test Set: 2.092358584203574\n"
     ]
    }
   ],
   "source": [
    "from sklearn.linear_model import Lasso\n",
    "# Define the parameter grid to search\n",
    "lasso_param_grid = {'alpha': [0.01, 0.1, 1, 10]}\n",
    "\n",
    "# Create a Lasso Regression model\n",
    "lasso_model = Lasso()\n",
    "\n",
    "# Create a GridSearchCV object\n",
    "lasso_grid_search = GridSearchCV(lasso_model, lasso_param_grid, cv=5, scoring='neg_mean_squared_error')\n",
    "\n",
    "# Record the start time\n",
    "start_time = time.time()\n",
    "\n",
    "# Fit\n",
    "lasso_best_model = lasso_grid_search.fit(X_train, Y_train)\n",
    "\n",
    "# Record the end time\n",
    "end_time = time.time()\n",
    "\n",
    "# Compute the duration\n",
    "elapsed_time = end_time - start_time\n",
    "\n",
    "# Access the best parameters and the corresponding best score\n",
    "best_params = lasso_grid_search.best_params_\n",
    "\n",
    "# Make predictions on the test set using the best model\n",
    "Y_pred_lasso = lasso_best_model.predict(X_test)\n",
    "\n",
    "# Evaluate the performance of the model on the test set\n",
    "mse_lasso = mean_squared_error(Y_test, Y_pred_lasso)\n",
    "r2_lasso = r2_score(Y_test,Y_pred_lasso)\n",
    "\n",
    "# Print results\n",
    "print(\"Lasso Regression:\")\n",
    "print('Elapsed Time:', elapsed_time)\n",
    "print(f\"Best Parameters: {best_params}\")\n",
    "print(\"R^2:\",r2_lasso)\n",
    "print(f\"Mean Squared Error on Test Set: {mse_lasso}\")"
   ]
  },
  {
   "cell_type": "markdown",
   "id": "b7ba7ad0",
   "metadata": {},
   "source": [
    "### h)k-Nearest Neighbors"
   ]
  },
  {
   "cell_type": "markdown",
   "id": "73b583d5",
   "metadata": {},
   "source": [
    "As the last Regression model, we implemented the K-Nearest Neighbors, with different parameters:\n",
    "* neighbors numbers(it determines how many neighboring data points influence the prediction for a given data point).\n",
    "\n",
    "* weights(specifies the weight function used in prediction): with uniform all neighbors have equal influence over the prediction, with distance closer neighbors have more influence on the prediction.\n",
    "\n",
    "* metric defines the distance metric used to measure the distance between data points: euclidean, the straight-line distance between two points in Euclidean space and manhattan, the sum of the absolute differences between the coordinates."
   ]
  },
  {
   "cell_type": "code",
   "execution_count": 26,
   "id": "18496a45",
   "metadata": {},
   "outputs": [
    {
     "name": "stdout",
     "output_type": "stream",
     "text": [
      "K Nearest Neighbors Regression:\n",
      "Elapsed_time:  3.516587257385254\n",
      "Best Parameters: {'metric': 'euclidean', 'n_neighbors': 5, 'weights': 'distance'}\n",
      "Mean Squared Error on Test Set: 0.09467055762873285\n",
      "R^2 on Test Set: 0.9928715064503774\n"
     ]
    }
   ],
   "source": [
    "# Define the parameter grid to search for K Neighbors Regressor\n",
    "knn_param_grid = {\n",
    "    'n_neighbors': [3, 5, 7, 9, 11],\n",
    "    'weights': ['uniform', 'distance'],\n",
    "    'metric': ['euclidean', 'manhattan']\n",
    "}\n",
    "\n",
    "# Create a K Neighbors Regressor model\n",
    "knn_model = KNeighborsRegressor()\n",
    "\n",
    "# Create a GridSearchCV object\n",
    "grid_search_knn = GridSearchCV(knn_model, knn_param_grid, cv=5, scoring='neg_mean_squared_error')\n",
    "\n",
    "# Mark the beginning time\n",
    "start_time_knn = time.time()\n",
    "\n",
    "# Fit the model to the training data\n",
    "grid_search_knn.fit(X_train, Y_train)\n",
    "\n",
    "# Mark the end time\n",
    "end_time_knn = time.time()\n",
    "\n",
    "# Compute the duration\n",
    "elapsed_time_knn = end_time_knn - start_time_knn\n",
    "\n",
    "# Make predictions on the test set using the best model\n",
    "Y_pred_knn = grid_search_knn.predict(X_test)\n",
    "\n",
    "# Evaluate the performance of the model on the test set\n",
    "mse_knn = mean_squared_error(Y_test, Y_pred_knn)\n",
    "r2_knn = r2_score(Y_test, Y_pred_knn)\n",
    "\n",
    "print(\"K Nearest Neighbors Regression:\")\n",
    "print('Elapsed_time: ', elapsed_time_knn)\n",
    "print(\"Best Parameters:\", grid_search_knn.best_params_)\n",
    "print(\"Mean Squared Error on Test Set:\", mse_knn)\n",
    "print(\"R^2 on Test Set:\", r2_knn)"
   ]
  },
  {
   "cell_type": "markdown",
   "id": "82bdf2db",
   "metadata": {},
   "source": [
    "**Remark on the print-out:** We observe that this method outperforms the others for MSE."
   ]
  },
  {
   "cell_type": "markdown",
   "id": "471b82b0",
   "metadata": {},
   "source": [
    "## III) Visualizing and Comparing the results "
   ]
  },
  {
   "cell_type": "markdown",
   "id": "2e6dc9ed",
   "metadata": {},
   "source": [
    "### a) Comparing different metrics"
   ]
  },
  {
   "cell_type": "markdown",
   "id": "909a9b75",
   "metadata": {},
   "source": [
    "Let's regroup the results in a table from the best MSE to the worst using the tabulate library."
   ]
  },
  {
   "cell_type": "code",
   "execution_count": 29,
   "id": "c5c742d3",
   "metadata": {},
   "outputs": [
    {
     "name": "stdout",
     "output_type": "stream",
     "text": [
      "╒═══════════════════════════════════╤══════════════════════╤════════╤════════════════════╕\n",
      "│ Model                             │   Mean Squared Error │    R^2 │   Elapsed Time (s) │\n",
      "╞═══════════════════════════════════╪══════════════════════╪════════╪════════════════════╡\n",
      "│ K Nearest Neighbors Regression    │               0.0947 │ 0.9929 │             3.5166 │\n",
      "├───────────────────────────────────┼──────────────────────┼────────┼────────────────────┤\n",
      "│ Random Forest Regressor           │               0.1039 │ 0.9922 │             7.2396 │\n",
      "├───────────────────────────────────┼──────────────────────┼────────┼────────────────────┤\n",
      "│ Decision Tree Regressor           │               0.1316 │ 0.9901 │             0.8396 │\n",
      "├───────────────────────────────────┼──────────────────────┼────────┼────────────────────┤\n",
      "│ SVR                               │               0.1269 │ 0.9904 │            98.7823 │\n",
      "├───────────────────────────────────┼──────────────────────┼────────┼────────────────────┤\n",
      "│ Linear Regression                 │               2.0919 │ 0.8425 │             0.0514 │\n",
      "├───────────────────────────────────┼──────────────────────┼────────┼────────────────────┤\n",
      "│ Ridge Regression                  │               2.092  │ 0.8425 │             0.0689 │\n",
      "├───────────────────────────────────┼──────────────────────┼────────┼────────────────────┤\n",
      "│ Lasso Regression                  │               2.0924 │ 0.8424 │             0.0698 │\n",
      "├───────────────────────────────────┼──────────────────────┼────────┼────────────────────┤\n",
      "│ Polynomial Regression of degree 2 │               2.4505 │ 0.8155 │            18.388  │\n",
      "╘═══════════════════════════════════╧══════════════════════╧════════╧════════════════════╛\n"
     ]
    }
   ],
   "source": [
    "from tabulate import tabulate\n",
    "# Data\n",
    "metric_results = [\n",
    "    [\"K Nearest Neighbors Regression\", 0.0947, 0.9929, 3.5166],\n",
    "    [\"Random Forest Regressor\", 0.1039, 0.9922, 7.2396],\n",
    "    [\"Decision Tree Regressor\", 0.1316, 0.9901, 0.8396],\n",
    "    [\"SVR\", 0.1269, 0.9904, 98.7823],\n",
    "    [\"Linear Regression\", 2.0919, 0.8425, 0.0514],\n",
    "    [\"Ridge Regression\", 2.0920, 0.8425, 0.0689],\n",
    "    [\"Lasso Regression\", 2.0924, 0.8424, 0.0698],\n",
    "    [\"Polynomial Regression of degree 2\", 2.4505, 0.8155, 18.3880]\n",
    "]\n",
    "\n",
    "# Headers\n",
    "headers = [\"Model\", \"Mean Squared Error\", \"R^2\", \"Elapsed Time (s)\"]\n",
    "\n",
    "\n",
    "# Columns\n",
    "cols = [\"Model\", \"Mean Squared Error\", \"R^2\", \"Elapsed Time (s)\"]\n",
    "\n",
    "# Display the table\n",
    "print(tabulate(metric_results, headers=cols, tablefmt=\"fancy_grid\"))"
   ]
  },
  {
   "cell_type": "markdown",
   "id": "85070daa",
   "metadata": {},
   "source": [
    "The R^2 and MSE metrics goes hand in hand in our result table. We can choose with certainty KNN model as the best performing regression method if we were to consider these metrics only.\n",
    "\n",
    "Now, lets dig deeper by considering the probability density functions of each predicted Y dataframe of the models."
   ]
  },
  {
   "cell_type": "markdown",
   "id": "ef06e7d9",
   "metadata": {},
   "source": [
    "### b) KDE plots of models "
   ]
  },
  {
   "cell_type": "markdown",
   "id": "e2a01ea6",
   "metadata": {},
   "source": [
    "The histogram we have plotted earlier may be of use to us. In this subsection we will use the Kernel Density Estimation(KDE) to estimate the probability density function of the regression models. KDE involves placing a kernel on each data point and summing them up to generate a continuous probability distribution.\n",
    "\n",
    "We can use the sns.kdeplot() to visualize the distribution of predicted values from different regression models and eliminiate unfit models by visualy inspecting them."
   ]
  },
  {
   "cell_type": "code",
   "execution_count": 30,
   "id": "c4889254",
   "metadata": {},
   "outputs": [
    {
     "data": {
      "image/png": "[encoded data removed]",
      "text/plain": [
       "<Figure size 640x480 with 1 Axes>"
      ]
     },
     "metadata": {},
     "output_type": "display_data"
    }
   ],
   "source": [
    "sns.kdeplot(Y_test,label='Y_test')\n",
    "sns.kdeplot(Y_pred_lin,label='Linear Regression')\n",
    "sns.kdeplot(Y_pred_poly,label='Polynomial Regression')\n",
    "sns.kdeplot(Y_pred_ridge, label='Ridge Regression')\n",
    "sns.kdeplot(Y_pred_lasso, label='Lasso Regression')\n",
    "\n",
    "plt.xlabel('Predicted Values')\n",
    "plt.ylabel('Density')\n",
    "plt.title('KDE Plot of Predicted Values')\n",
    "plt.legend()\n",
    "plt.ylim([0,0.2]) \n",
    "plt.xlim([-25,0])\n",
    "plt.show()"
   ]
  },
  {
   "cell_type": "markdown",
   "id": "4e1d3ac3",
   "metadata": {},
   "source": [
    "**Remark on the print-out:** We have plotted the least good performing models KDEs on the previous graph. We can see that the means of the Lasso, Ridge and Linear Regressions KDEs are shifted to bigger values and that there is an over-estimation of values between -20 and -18, and under-estimation for values of Atomization Energies from [-18, -12] and [-7, 0]. We can be sure to not consider those models for further developpement."
   ]
  },
  {
   "cell_type": "code",
   "execution_count": 31,
   "id": "ef8f0659",
   "metadata": {},
   "outputs": [
    {
     "data": {
      "image/png": "[encoded data removed]",
      "text/plain": [
       "<Figure size 640x480 with 1 Axes>"
      ]
     },
     "metadata": {},
     "output_type": "display_data"
    }
   ],
   "source": [
    "# Predicted values from different regression models\n",
    "sns.kdeplot(Y_test,label='Y_test')\n",
    "sns.kdeplot(Y_pred_knn, label='K-Nearest Neighbours')\n",
    "sns.kdeplot(Y_pred_svr, label='SVR')\n",
    "sns.kdeplot(Y_pred_rf, label='Random Forest')\n",
    "sns.kdeplot(Y_pred_dt, label='Decision Tree')\n",
    "\n",
    "plt.xlabel('Predicted Values')\n",
    "plt.ylabel('Density')\n",
    "plt.title('KDE Plot of Predicted Values ')\n",
    "plt.legend()\n",
    "plt.ylim([0,0.2]) \n",
    "plt.xlim([-25,0])\n",
    "plt.show()"
   ]
  },
  {
   "cell_type": "markdown",
   "id": "2a9dd3a4",
   "metadata": {},
   "source": [
    "**Remark on the print-out:** We can see from the previous graph in which we have plotted the best 4 models KDEs, that the distribution of KNN, SVR and Tree models are a good approximation of the real density of values. We can visualy see that they align somewhat perfectly with Y_test's KDE."
   ]
  },
  {
   "cell_type": "markdown",
   "id": "95ef75fa",
   "metadata": {},
   "source": [
    "### c) Kullback-Leibler (KL) divergence on Regression models\n",
    "The KL divergence measures how one probability distribution diverges from a second, and it can be used to quantify the difference between two Gaussian Kernel Density Estimation (KDE). For this purpose we import gaussian_kde and entropy from scipy.stats library. The gaussian_kde function, in particular, uses Gaussian kernels (bell-shaped curves) to smooth the data and estimate the underlying distribution. We use them to get KDE models for different regression models."
   ]
  },
  {
   "cell_type": "code",
   "execution_count": 32,
   "id": "39f4f58d",
   "metadata": {},
   "outputs": [],
   "source": [
    "from scipy.stats import gaussian_kde, entropy\n",
    "import numpy as np\n",
    "\n",
    "# Smooth KDE models \n",
    "kde_model1 = gaussian_kde(Y_test)\n",
    "kde_model2 = gaussian_kde(Y_pred_Lin)\n",
    "kde_model3 = gaussian_kde(Y_pred_rf)\n",
    "kde_model4 = gaussian_kde(Y_pred_svr)\n",
    "kde_model5 = gaussian_kde(Y_pred_dt)\n",
    "kde_model6 = gaussian_kde(Y_pred_knn)"
   ]
  },
  {
   "cell_type": "markdown",
   "id": "b06fdbb7",
   "metadata": {},
   "source": [
    " Generate a set of x values to evaluate the previously computed distributions with linspace(minima,maxima,number of values), then apply the kde_model(x) and get the probability density functions(PDF) for each model, model1 obtained from the original Y_test dataframe( can be also done for Y)."
   ]
  },
  {
   "cell_type": "code",
   "execution_count": 33,
   "id": "92105b52",
   "metadata": {},
   "outputs": [],
   "source": [
    "# Generate a set of values to evaluate the distributions\n",
    "x_values = np.linspace(min(Y), max(Y), 1000)\n",
    "\n",
    "# Evaluate the KDEs at the specified x values\n",
    "pdf_model1 = kde_model1(x_values)\n",
    "pdf_model2 = kde_model2(x_values)\n",
    "pdf_model3 = kde_model3(x_values)\n",
    "pdf_model4 = kde_model4(x_values)\n",
    "pdf_model5 = kde_model5(x_values)\n",
    "pdf_model6 = kde_model6(x_values)"
   ]
  },
  {
   "cell_type": "markdown",
   "id": "4eb21f1a",
   "metadata": {},
   "source": [
    "Now we can compute the relative entropy between the original Y's PDF and the model's PDF. The best entropy should be the one closest to zero."
   ]
  },
  {
   "cell_type": "code",
   "execution_count": 34,
   "id": "13e2f377",
   "metadata": {},
   "outputs": [
    {
     "name": "stdout",
     "output_type": "stream",
     "text": [
      "KL Divergence between Original data and\n",
      ">Linear Regression: 0.3355071200912604\n",
      ">Random Forest: 0.00021424571361256287\n",
      ">SVR: 0.0030651645885203718\n",
      ">Decision Tree: 0.0002185175206636206\n",
      ">KNN: 0.00019160973676891967 \n",
      "\n"
     ]
    }
   ],
   "source": [
    "# Calculate the KL divergence between the Original Outputs and Model outputs\n",
    "kl_divergence_1_2 = entropy(pdf_model1, pdf_model2)\n",
    "kl_div_1_3 = entropy(pdf_model1, pdf_model3)\n",
    "kl_div_1_4 = entropy(pdf_model1, pdf_model4)\n",
    "kl_div_1_5 = entropy(pdf_model1, pdf_model5)\n",
    "kl_div_1_6 = entropy(pdf_model1, pdf_model6)\n",
    "\n",
    "print('KL Divergence between Original data and')\n",
    "print(\">Linear Regression:\", kl_divergence_1_2)\n",
    "print('>Random Forest:', kl_div_1_3)\n",
    "print('>SVR:',kl_div_1_4)\n",
    "print('>Decision Tree:',kl_div_1_5)\n",
    "print('>KNN:',kl_div_1_6,'\\n')"
   ]
  },
  {
   "cell_type": "markdown",
   "id": "4594fad4",
   "metadata": {},
   "source": [
    "As we want to get the response directly printed out, we proceed to create a dictionnary with models and there comparison to the original PDF's test set entropy."
   ]
  },
  {
   "cell_type": "code",
   "execution_count": 35,
   "id": "49b600d4",
   "metadata": {},
   "outputs": [],
   "source": [
    "# Choosing the minimum KL divergence\n",
    "kl_dict = {\n",
    "    'models': ['Linear Regression','Random Forest Regressor', 'SVR', 'Decision Tree Regressor','K Nearest Neighbours'],\n",
    "    'kl_divergences':[kl_divergence_1_2, kl_div_1_3, kl_div_1_4, kl_div_1_5, kl_div_1_6],\n",
    "    }"
   ]
  },
  {
   "cell_type": "markdown",
   "id": "8f4edbe8",
   "metadata": {},
   "source": [
    "We can now search the best KL_div value by finding the minimum of kl_dict['kl_divergences'] and also find it's corresponding index."
   ]
  },
  {
   "cell_type": "code",
   "execution_count": 36,
   "id": "b9bfa291",
   "metadata": {},
   "outputs": [],
   "source": [
    "#access the best vals of div and its name\n",
    "best_kl_div = min(kl_dict['kl_divergences'])\n",
    "best_kl_index = kl_dict['kl_divergences'].index(best_kl_div)"
   ]
  },
  {
   "cell_type": "markdown",
   "id": "19c29447",
   "metadata": {},
   "source": [
    "Finaly the best model's name is accessed with best_kl_index in kl_dict['models'] and printed-out."
   ]
  },
  {
   "cell_type": "code",
   "execution_count": 37,
   "id": "aaac3116",
   "metadata": {},
   "outputs": [
    {
     "name": "stdout",
     "output_type": "stream",
     "text": [
      "Best KL Divergence: 0.00019160973676891967\n",
      "Best Model by KL divergence is the K Nearest Neighbours\n"
     ]
    }
   ],
   "source": [
    "best_model_name = kl_dict['models'][best_kl_index]\n",
    "#Print out\n",
    "print('Best KL Divergence:', best_kl_div)\n",
    "print('Best Model by KL divergence is the', best_model_name)"
   ]
  },
  {
   "cell_type": "markdown",
   "id": "c4dc70fd",
   "metadata": {},
   "source": [
    "According to the KDE plots, we have found that Random Forest, Decision Tree, SVR and KNN were similar. Then by computing the KL divergence between these remaining models and Linear Regression for comparability in order of magnitude, we find that with the hyperparameters defined as before the best model in terms of KDE are in order KNN, Random Forest and Decision Tree."
   ]
  },
  {
   "cell_type": "markdown",
   "id": "fd903bcd",
   "metadata": {},
   "source": [
    "Nevertheless we have learned that those models can be trained together to yield beter results with ensemble learning."
   ]
  },
  {
   "cell_type": "markdown",
   "id": "ca893fe9",
   "metadata": {},
   "source": [
    "## IV) Ensemble Learning"
   ]
  },
  {
   "cell_type": "markdown",
   "id": "ac2fa3de",
   "metadata": {},
   "source": [
    "In a final attempt to push the limits, we will perform ensembel learning by combining the three best method we have found with Stacking and Voting Regression. "
   ]
  },
  {
   "cell_type": "markdown",
   "id": "669e3e99",
   "metadata": {},
   "source": [
    "**GradientBoostingRegressor**\n",
    "\n",
    "We implement Boosting with GradientBoostingRegressor() and first see if it's metrics are comparable to the three best model found earlier. If that is the case we will combine it with the rest of the models in a ensemble learning scheme. We import the method from sklearn.ensemble and contruct the object as gbr_model."
   ]
  },
  {
   "cell_type": "code",
   "execution_count": 43,
   "id": "89a86707",
   "metadata": {},
   "outputs": [],
   "source": [
    "# Split data into training and testing sets\n",
    "X_train, X_test, Y_train, Y_test = train_test_split(X_pca, Y, test_size=0.3, random_state=42)"
   ]
  },
  {
   "cell_type": "code",
   "execution_count": 44,
   "id": "abff13e2",
   "metadata": {},
   "outputs": [],
   "source": [
    "from sklearn.ensemble import GradientBoostingRegressor\n",
    "gbr_model = GradientBoostingRegressor()"
   ]
  },
  {
   "cell_type": "markdown",
   "id": "475d5f90",
   "metadata": {},
   "source": [
    "We define a hyperparameter grid for GradientBoostingRegressor(), where the parameters are the number of estimators, learning rate and maximum depth."
   ]
  },
  {
   "cell_type": "code",
   "execution_count": 58,
   "id": "9533f59e",
   "metadata": {},
   "outputs": [],
   "source": [
    "gbr_param_grid = {\n",
    "    'n_estimators': [50, 100, 150, 200, 250,300,350,400],\n",
    "    'learning_rate': [0.01, 0.1, 0.2, 0.3,],\n",
    "    'max_depth': [3, 4, 5]\n",
    "}"
   ]
  },
  {
   "cell_type": "markdown",
   "id": "b338396e",
   "metadata": {},
   "source": [
    "Using the same X_train and Y_train from the begining we proceed to do a fitting and do the training. We use GridSearchCV with cv=4 to find the best set of parameters. Additionnaly we have put n_jobs=-1 to use all available processors to parallelize the cross-validation process. This can significantly speed up the grid search."
   ]
  },
  {
   "cell_type": "code",
   "execution_count": 59,
   "id": "bcb9685a",
   "metadata": {},
   "outputs": [
    {
     "data": {
      "text/plain": [
       "GridSearchCV(cv=4, estimator=GradientBoostingRegressor(), n_jobs=-1,\n",
       "             param_grid={'learning_rate': [0.01, 0.1, 0.2, 0.3],\n",
       "                         'max_depth': [3, 4, 5],\n",
       "                         'n_estimators': [50, 100, 150, 200, 250, 300, 350,\n",
       "                                          400]},\n",
       "             scoring='neg_mean_squared_error')"
      ]
     },
     "execution_count": 59,
     "metadata": {},
     "output_type": "execute_result"
    }
   ],
   "source": [
    "# Perform GridSearchCV\n",
    "grid_search_gbr = GridSearchCV(gbr_model,gbr_param_grid, cv=4, scoring='neg_mean_squared_error',n_jobs=-1)\n",
    "grid_search_gbr.fit(X_train, Y_train)"
   ]
  },
  {
   "cell_type": "markdown",
   "id": "9b9bbd59",
   "metadata": {},
   "source": [
    "We do a prediction of our model on X_test set and save it in the Y_pred_gbr array."
   ]
  },
  {
   "cell_type": "code",
   "execution_count": 60,
   "id": "0a9ed667",
   "metadata": {},
   "outputs": [],
   "source": [
    "Y_pred_gbr = grid_search_gbr.predict(X_test)"
   ]
  },
  {
   "cell_type": "markdown",
   "id": "4289138d",
   "metadata": {},
   "source": [
    "We compute the metrics used before and print the results."
   ]
  },
  {
   "cell_type": "code",
   "execution_count": 61,
   "id": "c09a3730",
   "metadata": {},
   "outputs": [
    {
     "name": "stdout",
     "output_type": "stream",
     "text": [
      "GBR:\n",
      "Best Parameters: {'alpha': 0.01}\n",
      "Mean Squared Error on the test set: 0.09163039358830134\n",
      "R^2: 0.9931004243979932\n"
     ]
    }
   ],
   "source": [
    "# Metrics\n",
    "mse_gbr=mean_squared_error(Y_test, Y_pred_gbr)\n",
    "r2_gbr=r2_score(Y_test, Y_pred_gbr)\n",
    "gbr_best_params = grid_search_gbr.best_params_\n",
    "\n",
    "print(\"GBR:\")\n",
    "print(\"Best Parameters:\", best_params )\n",
    "print(\"Mean Squared Error on the test set:\",mse_gbr)\n",
    "print(\"R^2:\",r2_gbr)"
   ]
  },
  {
   "cell_type": "markdown",
   "id": "3d41a060",
   "metadata": {},
   "source": [
    "**Remark on the print-out:** We have here the best results available to us with Boosting."
   ]
  },
  {
   "cell_type": "markdown",
   "id": "af060c5e",
   "metadata": {},
   "source": [
    "#### Plotting the validation curve of GBR"
   ]
  },
  {
   "cell_type": "markdown",
   "id": "5269a89f",
   "metadata": {},
   "source": [
    "We have procceded to  plot the learning curve of the GBR. It represents the MSE as a function of n_estimators. The goal here is to identify the n_estimators where the training score reaches a plateau or a slow decrease for which the increase of n_estimators can be considered as overfitting because it doesn't improve the model."
   ]
  },
  {
   "cell_type": "markdown",
   "id": "98d102f9",
   "metadata": {},
   "source": [
    "We define the range of the parameters with a grid containing the n_estimators: 50 to 250. The validation_curve is then computed with the best parameters of the GBR's gbr_param_grid, cv=5 and scoring with negative MSE."
   ]
  },
  {
   "cell_type": "code",
   "execution_count": 62,
   "id": "d8ee1a14",
   "metadata": {},
   "outputs": [
    {
     "name": "stdout",
     "output_type": "stream",
     "text": [
      "{'learning_rate': 0.1, 'max_depth': 5, 'n_estimators': 400}\n"
     ]
    }
   ],
   "source": [
    "print(gbr_best_params)"
   ]
  },
  {
   "cell_type": "code",
   "execution_count": 63,
   "id": "47a51060",
   "metadata": {},
   "outputs": [],
   "source": [
    "from sklearn.model_selection import validation_curve\n",
    "param_range = gbr_param_grid['n_estimators']\n",
    "train_scores, test_scores = validation_curve(\n",
    "    GradientBoostingRegressor(learning_rate=gbr_best_params['learning_rate'], max_depth=gbr_best_params['max_depth']),\n",
    "    X_train, Y_train,\n",
    "    param_name=\"n_estimators\", param_range=param_range,\n",
    "    cv=5, scoring=\"neg_mean_squared_error\")"
   ]
  },
  {
   "cell_type": "markdown",
   "id": "f4d3e5c5",
   "metadata": {},
   "source": [
    "We compute the means of training and test scores for the next plot."
   ]
  },
  {
   "cell_type": "code",
   "execution_count": 64,
   "id": "2c6096df",
   "metadata": {},
   "outputs": [],
   "source": [
    "# Calculating mean of training and testing scores\n",
    "train_scores_mean = -np.mean(train_scores, axis=1)\n",
    "test_scores_mean = -np.mean(test_scores, axis=1)"
   ]
  },
  {
   "cell_type": "markdown",
   "id": "bc8f18b1",
   "metadata": {},
   "source": [
    "We decide the size and other features of the elbow curve, as we plot the CV score and training score of the GBR."
   ]
  },
  {
   "cell_type": "code",
   "execution_count": 66,
   "id": "d185000f",
   "metadata": {},
   "outputs": [
    {
     "data": {
      "image/png": "[encoded data removed]",
      "text/plain": [
       "<Figure size 800x400 with 1 Axes>"
      ]
     },
     "metadata": {},
     "output_type": "display_data"
    }
   ],
   "source": [
    "# Plotting the elbow curve\n",
    "plt.figure(figsize=(8, 4))\n",
    "plt.plot(param_range, train_scores_mean, label=\"Training score\", color=\"darkorange\", lw=2)\n",
    "plt.plot(param_range, test_scores_mean, label=\"Test score\", color=\"navy\", lw=2)\n",
    "plt.xlabel(\"Number of Estimators\")\n",
    "plt.ylabel(\"Negative Mean Squared Error\")\n",
    "plt.title(\"Validation for GradientBoostingRegressor\")\n",
    "plt.legend(loc=\"best\")\n",
    "plt.show()"
   ]
  },
  {
   "cell_type": "markdown",
   "id": "c5af8d93",
   "metadata": {},
   "source": [
    "**Remark on the print-out:** We observe that around n_estimators=[100,150] both curves commence to diverge from each other and the CV score reaches a plateau."
   ]
  },
  {
   "cell_type": "markdown",
   "id": "01bd3d51",
   "metadata": {},
   "source": [
    "### Stacking Regressor "
   ]
  },
  {
   "cell_type": "markdown",
   "id": "fd6ab233",
   "metadata": {},
   "source": [
    "Here we train multiple the best regression models and use the GBR as blender to combine the predictions."
   ]
  },
  {
   "cell_type": "markdown",
   "id": "c00940eb",
   "metadata": {},
   "source": [
    "We import the necessary libraries."
   ]
  },
  {
   "cell_type": "code",
   "execution_count": 67,
   "id": "f47bd9f7",
   "metadata": {},
   "outputs": [],
   "source": [
    "from sklearn.ensemble import StackingRegressor\n",
    "from sklearn.model_selection import GridSearchCV, validation_curve\n",
    "from sklearn.datasets import make_regression"
   ]
  },
  {
   "cell_type": "markdown",
   "id": "0733f603",
   "metadata": {},
   "source": [
    "We define the estimators list as the name and models."
   ]
  },
  {
   "cell_type": "code",
   "execution_count": 68,
   "id": "0beb64a1",
   "metadata": {},
   "outputs": [],
   "source": [
    "estimators = [\n",
    "    ('KNN',knn_model),\n",
    "    ('Decision Tree',dt_model),\n",
    "    ('GradiantBoost',gbr_model),\n",
    "    ('Random Forest',rf_model)\n",
    "]"
   ]
  },
  {
   "cell_type": "markdown",
   "id": "9442654e",
   "metadata": {},
   "source": [
    "We define the stacking regressor with the above list and use GBR as the final estimator."
   ]
  },
  {
   "cell_type": "code",
   "execution_count": 69,
   "id": "e26ac221",
   "metadata": {},
   "outputs": [],
   "source": [
    "sr = StackingRegressor(estimators = estimators, final_estimator = GradientBoostingRegressor())"
   ]
  },
  {
   "cell_type": "markdown",
   "id": "ae962890",
   "metadata": {},
   "source": [
    "We do the same procedure as before."
   ]
  },
  {
   "cell_type": "code",
   "execution_count": 70,
   "id": "ec3ebd00",
   "metadata": {},
   "outputs": [],
   "source": [
    "start_time = time.time()\n",
    "sr.fit(X_train,Y_train)\n",
    "end_time = time.time()\n",
    "elapsed_time_sr = end_time - start_time"
   ]
  },
  {
   "cell_type": "code",
   "execution_count": 71,
   "id": "d153385d",
   "metadata": {},
   "outputs": [],
   "source": [
    "Y_pred_sr = sr.predict(X_test)"
   ]
  },
  {
   "cell_type": "code",
   "execution_count": 72,
   "id": "1413da2d",
   "metadata": {},
   "outputs": [],
   "source": [
    "mse_sr = mean_squared_error(Y_test,Y_pred_sr)\n",
    "r2_sr = r2_score(Y_test,Y_pred_sr)"
   ]
  },
  {
   "cell_type": "code",
   "execution_count": 73,
   "id": "e7f4cb3c",
   "metadata": {},
   "outputs": [
    {
     "name": "stdout",
     "output_type": "stream",
     "text": [
      "Stacking Regressor:\n",
      "Time elapsed: 45.27062797546387\n",
      "Mean Squared Error: 0.09143946154419991\n",
      "R^2: 0.9931148011786828\n"
     ]
    }
   ],
   "source": [
    "print(\"Stacking Regressor:\")\n",
    "print('Time elapsed:',elapsed_time_sr)\n",
    "print('Mean Squared Error:',mse_sr)\n",
    "print('R^2:',r2_sr)"
   ]
  },
  {
   "cell_type": "markdown",
   "id": "bb84b670",
   "metadata": {},
   "source": [
    "**Remark on the print-out:** We observe that the R^2 is similar to GBR and the MSE is improved compared to GBR alone."
   ]
  },
  {
   "cell_type": "markdown",
   "id": "32619cd5",
   "metadata": {},
   "source": [
    "## Voting Regressor"
   ]
  },
  {
   "cell_type": "markdown",
   "id": "06050919",
   "metadata": {},
   "source": [
    "The voting Regressor is an ensemble learning model that combine the predictions of the same multiple regression models defined as estimators as before. We can add voting weights corresponding to the importance given to the models within. A priour test has generated worst results than what is shown here, thus we chose to compute it without handpicked tunning."
   ]
  },
  {
   "cell_type": "code",
   "execution_count": 74,
   "id": "f946a9ad",
   "metadata": {},
   "outputs": [
    {
     "name": "stdout",
     "output_type": "stream",
     "text": [
      "Voting Regressor:\n",
      "Time elapsed: 9.769724369049072\n",
      "Mean Squared Error: 0.09072858509484023\n",
      "R^2: 0.993168328677736\n"
     ]
    }
   ],
   "source": [
    "from sklearn.ensemble import VotingRegressor\n",
    "\n",
    "# Voting Regressor\n",
    "voting_reg = VotingRegressor(estimators=estimators)\n",
    "\n",
    "#start time and fitting\n",
    "start_time = time.time()\n",
    "\n",
    "voting_reg.fit(X_train, Y_train)\n",
    "\n",
    "end_time = time.time()\n",
    "elapsed_time_vote = end_time - start_time\n",
    "# Prediction\n",
    "Y_pred_vote = voting_reg.predict(X_test)\n",
    "\n",
    "# Metrics\n",
    "mse_vote = mean_squared_error(Y_test, Y_pred_vote)\n",
    "r2_vote = r2_score(Y_test,Y_pred_vote)\n",
    "\n",
    "print(\"Voting Regressor:\")\n",
    "print('Time elapsed:',elapsed_time_vote)\n",
    "print('Mean Squared Error:',mse_vote)\n",
    "print('R^2:',r2_vote)"
   ]
  },
  {
   "cell_type": "markdown",
   "id": "3a5004e7",
   "metadata": {},
   "source": [
    "### Second stacking using the previous Stacking Regressor as input "
   ]
  },
  {
   "cell_type": "markdown",
   "id": "92784c58",
   "metadata": {},
   "source": [
    "Lastly, we use the stacking method a second time using the first trained stacking regressor as the final_estimator to see if we get a better result."
   ]
  },
  {
   "cell_type": "code",
   "execution_count": 75,
   "id": "e5159184",
   "metadata": {},
   "outputs": [],
   "source": [
    "sr2 = StackingRegressor(\n",
    "        estimators = estimators,\n",
    "        final_estimator=sr)"
   ]
  },
  {
   "cell_type": "markdown",
   "id": "171d7584",
   "metadata": {},
   "source": [
    "We use the same protocol as always."
   ]
  },
  {
   "cell_type": "code",
   "execution_count": 76,
   "id": "8e33a638",
   "metadata": {},
   "outputs": [
    {
     "name": "stdout",
     "output_type": "stream",
     "text": [
      "Second stacking using the previous stacking as input:\n",
      "Time elapsed: 70.69242978096008\n",
      "Mean Squared Error: 0.0925100812430937\n",
      "R^2: 0.9930341857708007\n"
     ]
    }
   ],
   "source": [
    "#start time and fitting\n",
    "start_time = time.time()\n",
    "\n",
    "#Fit\n",
    "sr2.fit(X_train, Y_train)\n",
    "\n",
    "end_time = time.time()\n",
    "elapsed_time_sr2 = end_time - start_time\n",
    "# Prediction\n",
    "Y_pred_sr2 = sr2.predict(X_test)\n",
    "\n",
    "# Metrics\n",
    "mse_sr2 = mean_squared_error(Y_test, Y_pred_sr2)\n",
    "r2_sr2 = r2_score(Y_test,Y_pred_sr2)\n",
    "\n",
    "print(\"Second stacking using the previous stacking as input:\")\n",
    "print('Time elapsed:',elapsed_time_sr2)\n",
    "print('Mean Squared Error:',mse_sr2)\n",
    "print('R^2:',r2_sr2)"
   ]
  },
  {
   "cell_type": "markdown",
   "id": "f91f7d66",
   "metadata": {},
   "source": [
    "**Remark on the print-out:** We see that the results are not improving, we may stop here."
   ]
  },
  {
   "cell_type": "markdown",
   "id": "bfcfc58c",
   "metadata": {},
   "source": [
    "# Conclusion"
   ]
  },
  {
   "cell_type": "markdown",
   "id": "73cae880",
   "metadata": {},
   "source": [
    "In the table below we compared the ensemble learning methods."
   ]
  },
  {
   "cell_type": "code",
   "execution_count": 78,
   "id": "64139103",
   "metadata": {},
   "outputs": [
    {
     "name": "stdout",
     "output_type": "stream",
     "text": [
      "╒════════════════════╤════════════════╤══════════════════════╤═════════╕\n",
      "│ Model              │   Time elapsed │   Mean Squared Error │     R^2 │\n",
      "╞════════════════════╪════════════════╪══════════════════════╪═════════╡\n",
      "│ Stacking Regressor │          45.27 │              0.09143 │ 0.99311 │\n",
      "├────────────────────┼────────────────┼──────────────────────┼─────────┤\n",
      "│ Voting Regressor   │           9.76 │              0.09072 │ 0.99316 │\n",
      "├────────────────────┼────────────────┼──────────────────────┼─────────┤\n",
      "│ Second Stacking    │          70.69 │              0.09251 │ 0.99303 │\n",
      "╘════════════════════╧════════════════╧══════════════════════╧═════════╛\n"
     ]
    }
   ],
   "source": [
    "ensemble = [\n",
    "    [\"Stacking Regressor\", 45.27, 0.09143, 0.99311],\n",
    "    [\"Voting Regressor\", 9.76, 0.09072, 0.99316],\n",
    "    [\"Second Stacking\", 70.69, 0.09251,0.99303]\n",
    "]\n",
    "\n",
    "headers3 = [\"Model\", \"Time elapsed\", \"Mean Squared Error\", \"R^2\"]\n",
    "\n",
    "table = tabulate(ensemble, headers3, tablefmt=\"fancy_grid\")\n",
    "\n",
    "print(table)"
   ]
  },
  {
   "cell_type": "markdown",
   "id": "06fb3078",
   "metadata": {},
   "source": [
    "The Voting Regressor appears to be the best model among the three. It achieved the lowest MSE and the highest R^2, suggesting better predictive performance and a better fit to the data compared to the other models in the ensemble. Nevertheless it isn't better than the KNN Regression model in II), however slim the difference is. We can conclude that indeed the Stacking Regressor when used with KNN, Decision Tree, Random Forest and GradientBoost as blender does a good job to predict Atomization energies but takes more time and therefore an overkill. The K Neighrest Neighbors Regression fit checks most of the metric and visual inspection for a simple model."
   ]
  },
  {
   "cell_type": "markdown",
   "id": "1ba39bd9",
   "metadata": {},
   "source": [
    "**Addendum**: Some additionnaly found results with different parameter combination can be found in the text document: \"Early results\""
   ]
  },
  {
   "cell_type": "markdown",
   "id": "403e05a9",
   "metadata": {},
   "source": []
  }
 ],
 "metadata": {
  "kernelspec": {
   "display_name": "Python 3 (ipykernel)",
   "language": "python",
   "name": "python3"
  },
  "language_info": {
   "codemirror_mode": {
    "name": "ipython",
    "version": 3
   },
   "file_extension": ".py",
   "mimetype": "text/x-python",
   "name": "python",
   "nbconvert_exporter": "python",
   "pygments_lexer": "ipython3",
   "version": "3.9.13"
  },
  "varInspector": {
   "cols": {
    "lenName": 16,
    "lenType": 16,
    "lenVar": 40
   },
   "kernels_config": {
    "python": {
     "delete_cmd_postfix": "",
     "delete_cmd_prefix": "del ",
     "library": "var_list.py",
     "varRefreshCmd": "print(var_dic_list())"
    },
    "r": {
     "delete_cmd_postfix": ") ",
     "delete_cmd_prefix": "rm(",
     "library": "var_list.r",
     "varRefreshCmd": "cat(var_dic_list()) "
    }
   },
   "types_to_exclude": [
    "module",
    "function",
    "builtin_function_or_method",
    "instance",
    "_Feature"
   ],
   "window_display": false
  }
 },
 "nbformat": 4,
 "nbformat_minor": 5
}
